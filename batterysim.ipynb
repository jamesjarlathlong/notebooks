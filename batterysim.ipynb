{
 "cells": [
  {
   "cell_type": "code",
   "execution_count": null,
   "metadata": {
    "collapsed": true
   },
   "outputs": [],
   "source": [
    "import sys\n",
    "sys.path.append('/home/james/Dropbox (MIT)/All_Resourceful/dag_planner/dag-plan')\n",
    "sys.path.append('/home/james/Dropbox (MIT)/All_Resourceful/localgateway')\n",
    "from app.dag_solver import solve_DAG\n",
    "from app.views import inted\n",
    "import seaborn as sns\n",
    "import matplotlib\n",
    "import matplotlib.pyplot as plt\n",
    "%matplotlib inline\n",
    "import numpy as np\n",
    "import seaborn as sns\n",
    "import random\n",
    "import math\n",
    "import functools\n",
    "from scipy.stats import rv_discrete\n",
    "from beeview_gateway import parse_dag_stats as pds"
   ]
  },
  {
   "cell_type": "code",
   "execution_count": null,
   "metadata": {
    "collapsed": true
   },
   "outputs": [],
   "source": [
    "pwd"
   ]
  },
  {
   "cell_type": "code",
   "execution_count": null,
   "metadata": {
    "collapsed": true
   },
   "outputs": [],
   "source": [
    "def jump_time(mean_val):\n",
    "    return random.expovariate(1./mean_val)\n",
    "sns.distplot([jump_time(50) for _ in range(10000)])\n",
    "sns.despine()"
   ]
  },
  {
   "cell_type": "code",
   "execution_count": null,
   "metadata": {
    "collapsed": true
   },
   "outputs": [],
   "source": [
    "def gen_times(interval, numdays):\n",
    "    every_day = 24/interval\n",
    "    numintervals = int(numdays*every_day)\n",
    "    return [i*interval for i in range(1,numintervals+1)]\n",
    "def poisson_pmf(mean_per_unittime, t, numevents):\n",
    "    r = mean_per_unittime\n",
    "    return ((r*t)**numevents)*math.exp(-r*t)/math.factorial(numevents)\n",
    "def poisson_sample(intensity, t, numsims=1):\n",
    "    xs = range(100)\n",
    "    pmf = [poisson_pmf(intensity, t, x) for x in xs]\n",
    "    sample=rv_discrete(values=(xs,pmf)).rvs(size=numsims)\n",
    "    return sample\n",
    "def markov_step(intensity, previous, time_elapsed, units=1):\n",
    "    num_down = poisson_sample(intensity, time_elapsed, numsims=1)[0]\n",
    "    return max(units, previous-num_down*units)\n",
    "def markov_walker(accumed, next_ti):\n",
    "    \"\"\"accumed is a list of (t, value) tuples\"\"\"\n",
    "    previous_t, previous_val = accumed[-1]\n",
    "    this_t, this_i = next_ti\n",
    "    time_elapsed = this_t - previous_t\n",
    "    this_val = markov_step(this_i, previous_val\n",
    "                          ,time_elapsed, units=0.01)\n",
    "    accumed.append((this_t, previous_val))\n",
    "    accumed.append((this_t, this_val))\n",
    "    return accumed\n",
    "interval = 6#hours\n",
    "intensity = 0.05#changes per hour\n",
    "times = gen_times(interval,180)\n",
    "intensities = [intensity for _ in times]\n",
    "initial_conditions = [(0,0.95)]\n",
    "def walker(times, intensity, initial_conditions):\n",
    "    intensities = [intensity for _ in times]\n",
    "    result = functools.reduce(markov_walker, zip(times, intensities), initial_conditions)\n",
    "    return result\n",
    "nodes = [str(i) for i in range(20)]\n",
    "intensities = [random.gauss(0.01,0.001) for node in nodes]\n",
    "inits = [[(0,1)] for node in nodes]\n",
    "node_startinfo = {n[0]:{'intensity':n[1], 'initial':n[2]}\n",
    "        for n in zip(nodes, intensities, inits)}\n",
    "walkfun = functools.partial(walker, times)\n",
    "all_sims = {node:walkfun(v['intensity'], v['initial'])\n",
    "            for node, v in node_startinfo.items()}"
   ]
  },
  {
   "cell_type": "code",
   "execution_count": null,
   "metadata": {
    "collapsed": true
   },
   "outputs": [],
   "source": [
    "fig, ax = plt.subplots(1)\n",
    "for node, result in all_sims.items():\n",
    "    ax.plot([i[0] for i in result], [i[1] for i in result])\n",
    "ax.set_ylim([0,1.1])\n",
    "sns.despine()"
   ]
  },
  {
   "cell_type": "code",
   "execution_count": null,
   "metadata": {
    "collapsed": true
   },
   "outputs": [],
   "source": [
    "def getlogmean(mu, sigma):\n",
    "    m = math.exp(mu+0.5*sigma)\n",
    "    return m\n",
    "def getlogvar(mu, sigma):\n",
    "    v = math.exp(2*mu+sigma)*(math.exp(sigma)-1)\n",
    "    return v\n",
    "lognormals = [random.lognormvariate(-3, 0.5) for _ in range(10000)]\n",
    "print(np.mean(lognormals))\n",
    "sns.distplot(lognormals)\n",
    "print(getlogmean(-3,0.5))"
   ]
  },
  {
   "cell_type": "code",
   "execution_count": null,
   "metadata": {},
   "outputs": [],
   "source": [
    "bw = {\"61\": {\"61\": 0.0, \"96\": 19.58, \"95\": 9.79, \"64\": 9.79, \"0\": 39.79, \"68\": 9.79, \"55\": 19.58, \"53\": 19.58, \"46\": 9.79, \"39\": 29.36, \"31\": 19.62, \"43\": 29.37, \"40\": 19.58, \"69\": 9.79, \"18\": 19.58, \"41\": 29.36, \"58\": 29.37, \"49\": 9.79, \"56\": 29.37, \"32\": 29.36, \"15\": 29.37, \"17\": 29.37, \"37\": 19.58, \"22\": 29.36, \"63\": 19.58}, \"96\": {\"61\": 9.79, \"96\": 0.0, \"95\": 9.79, \"64\": 9.79, \"0\": 49.57, \"68\": 19.58, \"55\": 29.37, \"53\": 9.79, \"46\": 9.79, \"39\": 29.36, \"31\": 29.4, \"43\": 39.15, \"40\": 29.36, \"69\": 19.58, \"18\": 29.36, \"41\": 39.15, \"58\": 39.15, \"49\": 9.79, \"56\": 39.15, \"32\": 9.79, \"15\": 39.15, \"17\": 39.15, \"37\": 29.37, \"22\": 39.15, \"63\": 19.58}, \"95\": {\"61\": 29.36, \"96\": 19.58, \"95\": 0.0, \"64\": 19.58, \"0\": 39.78, \"55\": 29.36, \"53\": 29.36, \"46\": 29.36, \"39\": 19.58, \"68\": 19.58, \"43\": 29.36, \"40\": 29.36, \"69\": 29.36, \"18\": 29.36, \"41\": 39.15, \"58\": 39.15, \"49\": 9.79, \"31\": 29.4, \"56\": 29.36, \"32\": 29.36, \"15\": 29.36, \"17\": 29.36, \"37\": 29.37, \"22\": 29.37, \"63\": 9.79}, \"64\": {\"64\": 0.0}, \"0\": {\"61\": 41.34, \"96\": 31.55, \"95\": 41.34, \"64\": 41.34, \"0\": 0.0, \"55\": 60.91, \"53\": 41.34, \"46\": 41.34, \"39\": 51.12, \"68\": 51.12, \"43\": 31.55, \"40\": 31.55, \"69\": 31.55, \"18\": 41.34, \"41\": 41.34, \"58\": 70.7, \"49\": 31.55, \"31\": 11.97, \"56\": 41.34, \"32\": 31.55, \"15\": 21.76, \"17\": 41.34, \"37\": 31.55, \"22\": 21.76, \"63\": 51.12}, \"55\": {\"61\": 9.79, \"96\": 9.79, \"95\": 9.79, \"64\": 9.79, \"0\": 23.18, \"55\": 0.0, \"53\": 19.58, \"46\": 19.58, \"39\": 19.58, \"68\": 19.58, \"43\": 19.58, \"40\": 19.58, \"69\": 9.79, \"18\": 19.58, \"41\": 29.36, \"58\": 9.79, \"49\": 19.58, \"31\": 19.62, \"56\": 29.36, \"32\": 19.58, \"15\": 9.79, \"17\": 9.79, \"37\": 19.58, \"22\": 9.79, \"63\": 19.58}, \"53\": {\"61\": 39.15, \"96\": 29.36, \"95\": 9.79, \"64\": 29.37, \"0\": 49.57, \"55\": 39.15, \"53\": 0.0, \"46\": 39.15, \"39\": 29.36, \"68\": 29.36, \"43\": 39.15, \"40\": 39.15, \"69\": 39.15, \"18\": 39.15, \"41\": 48.94, \"58\": 48.94, \"49\": 19.58, \"31\": 39.19, \"56\": 39.15, \"32\": 39.15, \"15\": 39.15, \"17\": 39.15, \"37\": 39.16, \"22\": 39.16, \"63\": 19.58}, \"46\": {\"61\": 39.15, \"96\": 29.36, \"95\": 9.79, \"64\": 29.37, \"0\": 49.57, \"55\": 39.15, \"53\": 39.15, \"46\": 0.0, \"39\": 29.36, \"68\": 29.36, \"43\": 39.15, \"40\": 39.15, \"69\": 39.15, \"18\": 39.15, \"41\": 48.94, \"58\": 48.94, \"49\": 19.58, \"31\": 39.19, \"56\": 39.15, \"32\": 39.15, \"15\": 39.15, \"17\": 39.15, \"37\": 39.16, \"22\": 39.16, \"63\": 19.58}, \"39\": {\"61\": 9.79, \"96\": 9.79, \"95\": 19.58, \"64\": 9.79, \"0\": 20.2, \"55\": 9.79, \"53\": 9.79, \"46\": 19.58, \"39\": 0.0, \"68\": 19.58, \"43\": 9.79, \"40\": 9.79, \"69\": 19.58, \"18\": 19.58, \"41\": 29.36, \"58\": 19.58, \"49\": 9.79, \"31\": 19.76, \"56\": 9.79, \"32\": 19.58, \"15\": 9.79, \"17\": 9.79, \"37\": 19.58, \"22\": 9.79, \"63\": 29.36}, \"68\": {\"61\": 19.58, \"96\": 19.58, \"95\": 9.79, \"64\": 9.79, \"0\": 30.0, \"68\": 0.0, \"55\": 9.79, \"53\": 9.79, \"46\": 9.79, \"39\": 19.58, \"31\": 9.83, \"43\": 19.58, \"40\": 9.79, \"69\": 9.79, \"18\": 9.79, \"41\": 19.58, \"58\": 19.58, \"49\": 9.79, \"56\": 19.58, \"32\": 19.58, \"15\": 19.58, \"17\": 19.58, \"37\": 9.79, \"22\": 19.58, \"63\": 19.58}, \"43\": {\"61\": 19.58, \"96\": 9.79, \"95\": 9.79, \"64\": 19.58, \"0\": 10.41, \"68\": 29.36, \"55\": 39.15, \"53\": 19.58, \"46\": 19.58, \"39\": 29.36, \"31\": 19.76, \"43\": 0.0, \"40\": 29.36, \"69\": 29.36, \"18\": 39.15, \"41\": 39.16, \"58\": 48.94, \"49\": 19.58, \"56\": 39.15, \"32\": 19.58, \"15\": 19.58, \"17\": 9.79, \"37\": 29.36, \"22\": 19.58, \"63\": 19.58}, \"40\": {\"40\": 0.0}, \"69\": {\"61\": 19.58, \"96\": 9.79, \"95\": 9.79, \"64\": 19.58, \"0\": 36.39, \"55\": 39.15, \"53\": 19.58, \"46\": 19.58, \"39\": 29.36, \"68\": 29.36, \"43\": 39.15, \"40\": 39.15, \"69\": 0.0, \"18\": 39.15, \"41\": 48.94, \"58\": 48.94, \"49\": 19.58, \"31\": 39.19, \"56\": 39.15, \"32\": 19.58, \"15\": 39.15, \"17\": 39.15, \"37\": 39.16, \"22\": 39.16, \"63\": 19.58}, \"18\": {\"61\": 19.58, \"96\": 19.58, \"64\": 19.58, \"0\": 27.2, \"55\": 19.58, \"53\": 9.79, \"46\": 29.36, \"39\": 9.79, \"68\": 19.58, \"43\": 19.58, \"40\": 19.58, \"69\": 19.58, \"18\": 0.0, \"41\": 9.79, \"58\": 29.36, \"49\": 9.79, \"22\": 9.79, \"31\": 10.08, \"56\": 19.58, \"32\": 9.79, \"15\": 19.58, \"17\": 9.79, \"37\": 29.36, \"95\": 19.58, \"63\": 9.79}, \"41\": {\"61\": 29.36, \"96\": 19.58, \"95\": 9.79, \"64\": 29.36, \"0\": 19.58, \"68\": 29.36, \"55\": 39.15, \"53\": 29.36, \"46\": 29.37, \"39\": 29.36, \"31\": 29.54, \"43\": 9.79, \"40\": 19.58, \"69\": 19.58, \"18\": 39.15, \"41\": 0.0, \"58\": 48.94, \"49\": 19.58, \"56\": 39.15, \"32\": 29.36, \"15\": 29.36, \"17\": 19.58, \"37\": 39.15, \"22\": 9.79, \"63\": 19.58}, \"58\": {\"61\": 19.58, \"96\": 9.79, \"95\": 9.79, \"64\": 9.79, \"0\": 23.18, \"68\": 9.79, \"55\": 19.58, \"53\": 9.79, \"46\": 9.79, \"39\": 9.79, \"31\": 9.83, \"43\": 19.58, \"40\": 19.58, \"69\": 19.58, \"18\": 9.79, \"41\": 19.58, \"58\": 0.0, \"49\": 19.58, \"56\": 19.58, \"32\": 19.58, \"15\": 9.79, \"17\": 9.79, \"37\": 19.58, \"22\": 19.58, \"63\": 19.58}, \"49\": {\"49\": 0.0}, \"31\": {\"61\": 29.36, \"96\": 19.58, \"95\": 29.36, \"64\": 29.36, \"0\": 23.18, \"55\": 48.94, \"53\": 29.36, \"46\": 29.37, \"39\": 39.15, \"68\": 39.15, \"43\": 19.58, \"40\": 19.58, \"69\": 19.58, \"18\": 29.36, \"41\": 29.37, \"58\": 58.73, \"49\": 19.58, \"31\": 0.0, \"56\": 29.36, \"32\": 19.58, \"15\": 9.79, \"17\": 29.36, \"37\": 19.58, \"22\": 9.79, \"63\": 39.15}, \"56\": {\"61\": 19.58, \"96\": 9.79, \"95\": 19.58, \"64\": 9.79, \"0\": 34.0, \"55\": 29.36, \"53\": 9.79, \"46\": 19.58, \"39\": 19.58, \"68\": 29.36, \"43\": 29.36, \"40\": 29.36, \"69\": 29.36, \"18\": 9.79, \"41\": 19.58, \"58\": 39.15, \"49\": 19.58, \"31\": 10.82, \"56\": 0.0, \"32\": 19.58, \"15\": 20.61, \"17\": 19.58, \"37\": 30.4, \"22\": 19.58, \"63\": 19.58}, \"32\": {\"61\": 48.94, \"96\": 39.15, \"64\": 39.15, \"0\": 59.35, \"55\": 48.94, \"53\": 9.79, \"46\": 48.94, \"39\": 39.15, \"68\": 39.15, \"43\": 48.94, \"40\": 48.94, \"69\": 48.94, \"18\": 48.94, \"41\": 58.73, \"58\": 58.73, \"49\": 29.36, \"22\": 48.95, \"31\": 48.98, \"56\": 48.94, \"32\": 0.0, \"15\": 48.94, \"17\": 48.94, \"37\": 48.95, \"95\": 19.58, \"63\": 29.36}, \"15\": {\"61\": 19.58, \"96\": 19.58, \"95\": 29.36, \"64\": 19.59, \"0\": 13.39, \"55\": 39.15, \"53\": 19.58, \"46\": 19.58, \"39\": 29.36, \"68\": 29.36, \"43\": 19.58, \"40\": 39.15, \"69\": 19.58, \"18\": 19.58, \"41\": 19.58, \"58\": 48.94, \"49\": 9.79, \"31\": 25.36, \"56\": 19.58, \"32\": 9.79, \"15\": 0.0, \"17\": 29.37, \"37\": 9.79, \"22\": 29.37, \"63\": 29.36}, \"17\": {\"61\": 29.36, \"96\": 19.58, \"95\": 29.36, \"64\": 29.36, \"0\": 23.18, \"55\": 48.94, \"53\": 29.36, \"46\": 29.37, \"39\": 39.15, \"68\": 39.15, \"43\": 19.58, \"40\": 19.58, \"69\": 19.58, \"18\": 29.36, \"41\": 29.37, \"58\": 58.73, \"49\": 9.79, \"31\": 9.97, \"56\": 29.36, \"32\": 19.58, \"15\": 9.79, \"17\": 0.0, \"37\": 19.58, \"22\": 9.79, \"63\": 39.15}, \"37\": {\"61\": 9.79, \"96\": 9.79, \"95\": 19.58, \"64\": 9.8, \"0\": 20.2, \"68\": 19.58, \"55\": 29.36, \"53\": 9.79, \"46\": 9.79, \"39\": 19.58, \"31\": 19.87, \"43\": 9.79, \"40\": 29.36, \"69\": 9.79, \"18\": 9.79, \"41\": 9.79, \"58\": 39.15, \"49\": 19.58, \"56\": 9.79, \"32\": 19.58, \"15\": 29.36, \"17\": 19.58, \"37\": 0.0, \"22\": 19.58, \"63\": 19.58}, \"22\": {\"61\": 19.58, \"96\": 9.79, \"95\": 19.58, \"64\": 19.58, \"0\": 17.41, \"68\": 29.36, \"55\": 39.15, \"53\": 19.58, \"46\": 19.58, \"39\": 39.15, \"31\": 29.38, \"43\": 9.79, \"40\": 9.79, \"69\": 9.79, \"18\": 39.15, \"41\": 48.94, \"58\": 48.94, \"49\": 19.58, \"56\": 48.94, \"32\": 19.58, \"15\": 29.37, \"17\": 19.58, \"37\": 39.15, \"22\": 0.0, \"63\": 29.36}, \"63\": {\"61\": 19.58, \"96\": 9.79, \"95\": 19.58, \"64\": 9.79, \"0\": 29.99, \"55\": 19.58, \"53\": 19.58, \"46\": 19.58, \"39\": 9.79, \"68\": 9.79, \"43\": 19.58, \"40\": 19.58, \"69\": 19.58, \"18\": 19.58, \"41\": 29.36, \"58\": 29.36, \"49\": 9.79, \"31\": 19.62, \"56\": 19.58, \"32\": 19.58, \"15\": 19.58, \"17\": 19.58, \"37\": 19.58, \"22\": 19.58, \"63\": 0.0}}\n",
    "fmatted_bw = inted({k:inted(v) for k,v in bw.items()})\n",
    "px = {k:0.05 for k in fmatted_bw}\n",
    "code = \"\"\"class SenseReduce:\n",
    "    def __init__(self):\n",
    "        self.sensenodes = [[63],[41],[15],[95],[96],[53],[55],[31],[22],[17],[18],[56],[58],[61],[64],[43],[46],[49],[68],[32],[37],[39],[40],[69]]\n",
    "        self.mapnodes = [[63],[41],[15],[95],[96],[53],[55],[31],[22],[17],[18],[56],[58],[61],[64],[43],[46],[49],[68],[32],[37],[39],[40],[69]]\n",
    "        self.l=256\n",
    "        self.reducenodes = [[31],[56],[61],[0]]#,[56],[68],[32],[61],[64]]\n",
    "    def sampler(self,node):\n",
    "        acc = yield from node.testaccel(256)\n",
    "        return (node.ID,acc)\n",
    "    @slowdown(n=10)\n",
    "    def mapper(self,node,d):\n",
    "        nodeid, data = d\n",
    "        for ax in data:\n",
    "            ftpeak = np.fft(data[ax])[6]\n",
    "            c = lambda d: (round(d.real,6),round(d.imag,6))\n",
    "            nodeax = str(nodeid)+ax\n",
    "            group = hash(nodeax)%4\n",
    "            yield(group,(nodeax,c(ftpeak)))\n",
    "    @slowdown(n=10)\n",
    "    def reducer(self,node,k,vs):\n",
    "        ws = [complex(*i[1]) for i in vs]\n",
    "        G = np.spectral_mat(ws)\n",
    "        eig = np.pagerank(G)\n",
    "        c = lambda d: (round(d.real,2),round(d.imag,2))\n",
    "        ms = [(vs[idx][0],c(el)) for idx,el in enumerate(eig)]\n",
    "        yield(k,ms)\"\"\"\n",
    "sol = solve_DAG(code, rssi, inted(px), ack=580, bw=fmatted_bw)"
   ]
  },
  {
   "cell_type": "code",
   "execution_count": 2,
   "metadata": {},
   "outputs": [],
   "source": [
    "import json\n",
    "\n",
    "def parser(d):\n",
    "    reformatted= pds.reformat(d['sol'],d['graph'])\n",
    "    nodes_translated = pds.translate_nodeweights(d['px'],\n",
    "                                                 reformatted)\n",
    "    parsed = pds.translate_edgeweights(d['bw'],nodes_translated)\n",
    "    return parsed\n",
    "def summer(parsed_d):\n",
    "    return {g:pds.get_node_total(i) for g,i in parser(d)}\n",
    "def to_battery(active_mA,t):\n",
    "    #takes the active milliAmp consumption\n",
    "    #rate and for and an active time\n",
    "    #in seconds t, converts to a consumed mAh\n",
    "    seconds = t/1000\n",
    "    mAseconds = active_mA*seconds #milliAmp seconds\n",
    "    return mAseconds/(60*60)\n",
    "def sum_to_consumed(draw,summed):\n",
    "    return {k: to_battery(150,v) \n",
    "            for k,v in summed.items()\n",
    "            if k!=0}\n",
    "active_draw = 56+33+10#pyboard+digimesh+accel"
   ]
  },
  {
   "cell_type": "code",
   "execution_count": null,
   "metadata": {
    "collapsed": true
   },
   "outputs": [],
   "source": [
    "d = json.loads(json.dumps(sol))\n",
    "time_elapsed =  summer(parser(d))\n",
    "power_drawn = sum_to_consumed(active_draw,time_elapsed)\n",
    "time_elapsed"
   ]
  },
  {
   "cell_type": "code",
   "execution_count": 5,
   "metadata": {},
   "outputs": [
    {
     "data": {
      "text/plain": [
       "1555.2"
      ]
     },
     "execution_count": 5,
     "metadata": {},
     "output_type": "execute_result"
    }
   ],
   "source": [
    "oneday = \n",
    "to_battery(0.36, 180*1000*60*60*24)"
   ]
  },
  {
   "cell_type": "code",
   "execution_count": null,
   "metadata": {},
   "outputs": [],
   "source": [
    "0.2*4*180"
   ]
  },
  {
   "cell_type": "code",
   "execution_count": null,
   "metadata": {
    "collapsed": true
   },
   "outputs": [],
   "source": []
  },
  {
   "cell_type": "code",
   "execution_count": null,
   "metadata": {
    "collapsed": true
   },
   "outputs": [],
   "source": []
  },
  {
   "cell_type": "code",
   "execution_count": null,
   "metadata": {
    "collapsed": true
   },
   "outputs": [],
   "source": []
  },
  {
   "cell_type": "code",
   "execution_count": null,
   "metadata": {
    "collapsed": true
   },
   "outputs": [],
   "source": []
  },
  {
   "cell_type": "code",
   "execution_count": null,
   "metadata": {
    "collapsed": true
   },
   "outputs": [],
   "source": []
  },
  {
   "cell_type": "code",
   "execution_count": null,
   "metadata": {
    "collapsed": true
   },
   "outputs": [],
   "source": []
  },
  {
   "cell_type": "code",
   "execution_count": null,
   "metadata": {
    "collapsed": true
   },
   "outputs": [],
   "source": []
  }
 ],
 "metadata": {
  "kernelspec": {
   "display_name": "Python 3",
   "language": "python",
   "name": "python3"
  },
  "language_info": {
   "codemirror_mode": {
    "name": "ipython",
    "version": 3
   },
   "file_extension": ".py",
   "mimetype": "text/x-python",
   "name": "python",
   "nbconvert_exporter": "python",
   "pygments_lexer": "ipython3",
   "version": "3.4.3"
  }
 },
 "nbformat": 4,
 "nbformat_minor": 2
}
