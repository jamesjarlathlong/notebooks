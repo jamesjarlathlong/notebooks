{
 "cells": [
  {
   "cell_type": "code",
   "execution_count": null,
   "metadata": {
    "collapsed": true
   },
   "outputs": [],
   "source": [
    "import pandas as pd\n",
    "import matplotlib.pyplot as plt\n",
    "import itertools, functools\n",
    "import matplotlib\n",
    "from mpl_toolkits.mplot3d import Axes3D\n",
    "import numpy as np\n",
    "import numpy\n",
    "import math\n",
    "import seaborn as sns\n",
    "%matplotlib inline\n",
    "def set_axes_equal(ax):\n",
    "    '''Make axes of 3D plot have equal scale so that spheres appear as spheres,\n",
    "    cubes as cubes, etc..  This is one possible solution to Matplotlib's\n",
    "    ax.set_aspect('equal') and ax.axis('equal') not working for 3D.\n",
    "\n",
    "    Input\n",
    "      ax: a matplotlib axis, e.g., as output from plt.gca().\n",
    "    '''\n",
    "    ax.set_aspect('equal')\n",
    "    x_limits = ax.get_xlim3d()\n",
    "    y_limits = ax.get_ylim3d()\n",
    "    z_limits = ax.get_zlim3d()\n",
    "\n",
    "    x_range = abs(x_limits[1] - x_limits[0])\n",
    "    x_middle = np.mean(x_limits)\n",
    "    y_range = abs(y_limits[1] - y_limits[0])\n",
    "    y_middle = np.mean(y_limits)\n",
    "    z_range = abs(z_limits[1] - z_limits[0])\n",
    "    z_middle = np.mean(z_limits)\n",
    "\n",
    "    # The plot bounding box is a sphere in the sense of the infinity\n",
    "    # norm, hence I call half the max range the plot radius.\n",
    "    plot_radius = 0.5*max([x_range, y_range, z_range])\n",
    "\n",
    "    ax.set_xlim3d([x_middle - plot_radius, x_middle + plot_radius])\n",
    "    ax.set_ylim3d([y_middle - plot_radius, y_middle + plot_radius])\n",
    "    ax.set_zlim3d([z_middle - plot_radius, z_middle + plot_radius])"
   ]
  },
  {
   "cell_type": "code",
   "execution_count": null,
   "metadata": {
    "collapsed": true
   },
   "outputs": [],
   "source": [
    "coorddata = pd.read_csv('node_coords.csv',dtype={'Node':np.int64,'x': np.float64,'y': np.float64,'z': np.float64})\n",
    "coorddata['faceloc'] = coorddata.apply(lambda row: row['aFace']+row['aLocation'], axis=1)\n",
    "xs = coorddata['x']\n",
    "ys = coorddata['y']\n",
    "zs = coorddata['z']\n",
    "def faceloc_to_coords(coorddata, faceloc, keys=['xm','ym','zm']):\n",
    "    coords= coorddata[coorddata['faceloc']==faceloc][keys].values.tolist()\n",
    "    return tuple(coords[0])\n",
    "def add_modeshape(coords, modeshape):\n",
    "    newdf = pd.merge(modeshape,coorddata,how='right', on=['Node'])\n",
    "    orrer = lambda x: 0 if math.isnan(x) else x \n",
    "    newdf['xm'] = newdf.apply(lambda row: row['x']+orrer(row['xx']), axis =1)\n",
    "    newdf['ym'] = newdf.apply(lambda row: row['y']+orrer(row['yy']), axis =1)\n",
    "    newdf['zm'] = newdf.apply(lambda row: row['z']+orrer(row['zz']), axis =1)\n",
    "    return newdf\n",
    "def loadit(fname, factor):\n",
    "    m = pd.read_csv(fname)\n",
    "    for col in ['xx','yy','zz']:\n",
    "        m[col] = m[col].apply(lambda x:x*factor)\n",
    "    return m\n",
    "#modeshapedummy = pd.DataFrame({'Node':[20],'xx':[10],'yy':[2],'zz':[4]})\n",
    "m = loadit('fddmodeshape.csv',1.5)\n",
    "mshape_data = add_modeshape(coorddata, m)"
   ]
  },
  {
   "cell_type": "code",
   "execution_count": null,
   "metadata": {
    "collapsed": true
   },
   "outputs": [],
   "source": [
    "df = pd.read_csv('structure_graph.csv')\n",
    "df['faceloc'] = coorddata.apply(lambda row: row['aFace']+row['aLocation'], axis=1)\n",
    "\n",
    "def dictify(graphdf):\n",
    "    d = df.to_dict('records')\n",
    "    adjlist = ['adj'+str(i) for i in range(1,9)]\n",
    "    onerec = lambda item:(item['faceloc'],[item.get(l) for l in adjlist])\n",
    "    allrecs = [onerec(i) for i in d]\n",
    "    filterer = lambda tpl: (tpl[0], [i for i in tpl[1] if i==i])\n",
    "    filtered = map(filterer, allrecs)\n",
    "    def accumer(accum, el):\n",
    "        accum[el[0]]=el[1]\n",
    "        return accum\n",
    "    return functools.reduce(accumer, filtered, {})\n",
    "def adjacency_to_pairs(d):\n",
    "    \"\"\"take a adjacency structure d like:\n",
    "    {'a':['b','c'], 'b':['a','c']}\n",
    "    and return all pairs,e.g.\n",
    "    [('a','b'),('a','c')...]\"\"\"\n",
    "    nested_pairs = (list(itertools.product([k],v)) for k,v in d.items())\n",
    "    flattener = lambda nested: itertools.chain(*nested)\n",
    "    return list(flattener(nested_pairs))\n",
    "graphstruct = dictify(df)\n",
    "graphpairs = adjacency_to_pairs(graphstruct)\n",
    "translater = functools.partial(faceloc_to_coords, mshape_data)#coorddata)\n",
    "coorded_pairs = [(translater(k),translater(v)) for k,v in graphpairs]\n",
    "def pairs_to_lines(pair):\n",
    "    \"\"\"take a pairs where each item is x,y,z\n",
    "    and return three lists for plotting lines \"\"\"\n",
    "    return [i[0] for i in pair], [i[1] for i in pair], [i[2] for i in pair]"
   ]
  },
  {
   "cell_type": "code",
   "execution_count": null,
   "metadata": {
    "collapsed": true
   },
   "outputs": [],
   "source": [
    "fig = plt.figure()\n",
    "fig.set_size_inches(8,8)\n",
    "ax = plt.gca(projection='3d')\n",
    "ax.set_axis_off()\n",
    "\n",
    "# Data for a three-dimensional line\n",
    "#zline = np.linspace(0, 15, 1000)\n",
    "#xline = np.sin(zline)\n",
    "#yline = np.cos(zline)\n",
    "def shared_coord(pair, xyz, val):\n",
    "    d = {'x':0,'y':1,'z':2}\n",
    "    ax = d[xyz]\n",
    "    return int(pair[0][ax])==val and int(pair[1][ax])==val\n",
    "for pair in coorded_pairs:\n",
    "    xl,yl,zl = pairs_to_lines(pair)\n",
    "    oneface = 'frontface' if shared_coord(pair, 'x',0) else False\n",
    "    rightface = 'rightface' if shared_coord(pair, 'y',0) else False\n",
    "    backleg = 'backleg' if (shared_coord(pair, 'x',-6) and shared_coord(pair,'y',6)) else False\n",
    "    rightleg = 'rightleg' if shared_coord(pair, 'x',0) and shared_coord(pair,'y',6) else False\n",
    "    frontleg = 'frontleg' if shared_coord(pair, 'x',-6) and shared_coord(pair,'y',0) else False\n",
    "    leftleg = 'leftleg' if shared_coord(pair, 'x',0) and shared_coord(pair,'y',0) else False\n",
    "    width_dict = {'frontface':2, 'backleg':0.25, 'rightleg':2,'frontleg':2,'leftleg':2, 'rightface':2}\n",
    "    any_cats = [backleg, rightleg, oneface,frontleg,leftleg, rightface]\n",
    "    width = max([width_dict.get(cat,0.25) for cat in any_cats])\n",
    "    ax.plot3D(xl, yl, zl, '#525252', alpha =1, linewidth=1)#width)\n",
    "\n",
    "# Data for three-dimensional scattered points\n",
    "ax.scatter3D(xs, ys, zs, alpha = 0.5, color ='#bd0026')\n",
    "set_axes_equal(ax)\n",
    "#ax.view_init(elev=30., azim=100)\n",
    "fig.tight_layout()\n",
    "fig.savefig('tower3d.png', format='png', dpi=600)"
   ]
  },
  {
   "cell_type": "code",
   "execution_count": null,
   "metadata": {
    "collapsed": true
   },
   "outputs": [],
   "source": [
    "def mac(a,b):\n",
    "    top = numpy.abs(numpy.vdot(a,b))**2\n",
    "    bottom = numpy.dot(a,a)*numpy.dot(b,b)\n",
    "    return top/bottom"
   ]
  },
  {
   "cell_type": "code",
   "execution_count": null,
   "metadata": {
    "collapsed": true
   },
   "outputs": [],
   "source": [
    "m = loadit('fddmodeshape.csv',1.5)\n",
    "dm = loadit('dfddmodeshape.csv',1.5)"
   ]
  },
  {
   "cell_type": "code",
   "execution_count": null,
   "metadata": {},
   "outputs": [],
   "source": [
    "m"
   ]
  },
  {
   "cell_type": "code",
   "execution_count": null,
   "metadata": {},
   "outputs": [],
   "source": [
    "dm"
   ]
  },
  {
   "cell_type": "code",
   "execution_count": null,
   "metadata": {
    "collapsed": true
   },
   "outputs": [],
   "source": []
  }
 ],
 "metadata": {
  "kernelspec": {
   "display_name": "Python 3",
   "language": "python",
   "name": "python3"
  },
  "language_info": {
   "codemirror_mode": {
    "name": "ipython",
    "version": 3
   },
   "file_extension": ".py",
   "mimetype": "text/x-python",
   "name": "python",
   "nbconvert_exporter": "python",
   "pygments_lexer": "ipython3",
   "version": "3.4.3"
  }
 },
 "nbformat": 4,
 "nbformat_minor": 2
}
