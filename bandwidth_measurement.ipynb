{
 "cells": [
  {
   "cell_type": "code",
   "execution_count": 5,
   "metadata": {
    "collapsed": true
   },
   "outputs": [],
   "source": [
    "import seaborn as sns\n",
    "import matplotlib\n",
    "%matplotlib inline"
   ]
  },
  {
   "cell_type": "code",
   "execution_count": 44,
   "metadata": {},
   "outputs": [],
   "source": [
    "statpack55 = {'msgize': 248, 'stats': [{'retries': 1.6077046394348145, 'level': (1.0051631927490234, (0, (0, 2))), 't': 3.0143420696258545}, {'retries': 0, 'level': (0, 0), 't': 0.2036595344543457}, {'retries': 0, 'level': (0, 0), 't': 0.20220232009887695}, {'retries': 0, 'level': (0, 0), 't': 0.402987003326416}, {'retries': 0, 'level': (0, 0), 't': 0.20153117179870605}, {'retries': 0, 'level': (0, 0), 't': 0.40213513374328613}, {'retries': 0, 'level': (0, 0), 't': 0.20197582244873047}, {'retries': 0, 'level': (0, 0), 't': 0.4033212661743164}, {'retries': 0, 'level': (0, 0), 't': 0.4021720886230469}, {'retries': 5.220139265060425, 'level': (3.614330530166626, (2.2081966400146484, (0.6025917530059814, (0, (0, 4))))), 't': 6.625873565673828}, {'retries': 0, 'level': (0, 0), 't': 0.2017214298248291}, {'retries': 0, 'level': (0, 0), 't': 0.20206904411315918}, {'retries': 0, 'level': (0, 0), 't': 0.20202398300170898}, {'retries': 0, 'level': (0, 0), 't': 0.2017369270324707}, {'retries': 0, 'level': (0, 0), 't': 0.20168828964233398}], 'rssi': None}"
   ]
  },
  {
   "cell_type": "code",
   "execution_count": 45,
   "metadata": {},
   "outputs": [
    {
     "data": {
      "text/plain": [
       "15"
      ]
     },
     "execution_count": 45,
     "metadata": {},
     "output_type": "execute_result"
    }
   ],
   "source": [
    "len(statpack55['stats'])"
   ]
  },
  {
   "cell_type": "code",
   "execution_count": 46,
   "metadata": {},
   "outputs": [
    {
     "data": {
      "text/plain": [
       "14.588235294117647"
      ]
     },
     "execution_count": 46,
     "metadata": {},
     "output_type": "execute_result"
    }
   ],
   "source": [
    "248/17"
   ]
  },
  {
   "cell_type": "code",
   "execution_count": null,
   "metadata": {},
   "outputs": [],
   "source": []
  },
  {
   "cell_type": "code",
   "execution_count": null,
   "metadata": {},
   "outputs": [],
   "source": []
  },
  {
   "cell_type": "code",
   "execution_count": null,
   "metadata": {},
   "outputs": [],
   "source": []
  },
  {
   "cell_type": "code",
   "execution_count": null,
   "metadata": {},
   "outputs": [],
   "source": []
  },
  {
   "cell_type": "code",
   "execution_count": null,
   "metadata": {
    "collapsed": true
   },
   "outputs": [],
   "source": []
  }
 ],
 "metadata": {
  "kernelspec": {
   "display_name": "Python 3",
   "language": "python",
   "name": "python3"
  },
  "language_info": {
   "codemirror_mode": {
    "name": "ipython",
    "version": 3
   },
   "file_extension": ".py",
   "mimetype": "text/x-python",
   "name": "python",
   "nbconvert_exporter": "python",
   "pygments_lexer": "ipython3",
   "version": "3.4.3"
  }
 },
 "nbformat": 4,
 "nbformat_minor": 2
}
