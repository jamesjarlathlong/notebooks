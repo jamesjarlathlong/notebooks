{
 "cells": [
  {
   "cell_type": "code",
   "execution_count": 40,
   "metadata": {},
   "outputs": [],
   "source": [
    "code = \"\"\"class SenseReduce:\n",
    "    def __init__(self):\n",
    "        self.sensenodes = [[17],[18]]\n",
    "        self.mapnodes = [[17],[18]]\n",
    "        self.reducenodes = [[0]]\n",
    "        self.l=512\n",
    "    def sampler(self,node):\n",
    "        acc = yield from node.testaccel(512)\n",
    "        return (node.ID,acc)\n",
    "    def mapper(self,node,d):\n",
    "        fts = np.fft(d[1]['x'])\n",
    "        c = lambda d: (d.real,d.imag)\n",
    "        yield(0,(d[0],c(fts[6])))\n",
    "    def reducer(self,node,k,vs):\n",
    "        ws = [complex(*i[1]) for i in vs]\n",
    "        G = np.spectral_mat(ws)\n",
    "        eig = np.pagerank(G)\n",
    "        c = lambda d: (d.real,d.imag)\n",
    "        ms = [(vs[idx][0],c(el)) for idx,el in enumerate(eig)]\n",
    "        yield(k,ms)\"\"\"\n",
    "top_bottom = code.split('def sampler')\n",
    "def splitter(code,k):\n",
    "    split = code.split(k)\n",
    "    return split[0], k+split[1]\n",
    "shortcuts = {\"\"\"\n",
    "    def sampler(self,node):\n",
    "        acc = yield from node.testaccel(512)\n",
    "        return (node.ID,acc)\n",
    "    def mapper(self,node,d):\n",
    "        fts = np.fft(d[1]['x'])\n",
    "        c = lambda d: (d.real,d.imag)\n",
    "        yield(0,(d[0],c(fts[6])))\n",
    "    def reducer(self,node,k,vs):\n",
    "        ws = [complex(*i[1]) for i in vs]\n",
    "        G = np.spectral_mat(ws)\n",
    "        eig = np.pagerank(G)\n",
    "        c = lambda d: (d.real,d.imag)\n",
    "        ms = [(vs[idx][0],c(el)) for idx,el in enumerate(eig)]\n",
    "        yield(k,ms)\"\"\":\"fdd_single\"}"
   ]
  },
  {
   "cell_type": "code",
   "execution_count": 41,
   "metadata": {},
   "outputs": [],
   "source": [
    "top, bottom = splitter(code,\"\\n    def sampler(self,node):\")"
   ]
  },
  {
   "cell_type": "code",
   "execution_count": 42,
   "metadata": {},
   "outputs": [
    {
     "data": {
      "text/plain": [
       "'fdd_single'"
      ]
     },
     "execution_count": 42,
     "metadata": {},
     "output_type": "execute_result"
    }
   ],
   "source": [
    "shortcuts[bottom]"
   ]
  },
  {
   "cell_type": "code",
   "execution_count": 51,
   "metadata": {},
   "outputs": [
    {
     "ename": "AttributeError",
     "evalue": "'SenseReduce' object has no attribute 'mapper'",
     "output_type": "error",
     "traceback": [
      "\u001b[0;31m---------------------------------------------------------------------------\u001b[0m",
      "\u001b[0;31mAttributeError\u001b[0m                            Traceback (most recent call last)",
      "\u001b[0;32m<ipython-input-51-7094655ef1d8>\u001b[0m in \u001b[0;36m<module>\u001b[0;34m()\u001b[0m\n\u001b[1;32m      1\u001b[0m \u001b[0mexec\u001b[0m\u001b[0;34m(\u001b[0m\u001b[0mtop\u001b[0m\u001b[0;34m)\u001b[0m\u001b[0;34m\u001b[0m\u001b[0m\n\u001b[1;32m      2\u001b[0m \u001b[0mjob_class\u001b[0m \u001b[0;34m=\u001b[0m \u001b[0mlocals\u001b[0m\u001b[0;34m(\u001b[0m\u001b[0;34m)\u001b[0m\u001b[0;34m[\u001b[0m\u001b[0;34m'SenseReduce'\u001b[0m\u001b[0;34m]\u001b[0m\u001b[0;34m\u001b[0m\u001b[0m\n\u001b[0;32m----> 3\u001b[0;31m \u001b[0mjob_class\u001b[0m\u001b[0;34m(\u001b[0m\u001b[0;34m)\u001b[0m\u001b[0;34m.\u001b[0m\u001b[0mmapper\u001b[0m\u001b[0;34m(\u001b[0m\u001b[0;34m)\u001b[0m\u001b[0;34m\u001b[0m\u001b[0m\n\u001b[0m",
      "\u001b[0;31mAttributeError\u001b[0m: 'SenseReduce' object has no attribute 'mapper'"
     ]
    }
   ],
   "source": [
    "exec(top)\n",
    "job_class = locals()['SenseReduce']\n",
    "job_class().mapper()"
   ]
  },
  {
   "cell_type": "code",
   "execution_count": 52,
   "metadata": {},
   "outputs": [
    {
     "ename": "TypeError",
     "evalue": "mapper() missing 2 required positional arguments: 'node' and 'd'",
     "output_type": "error",
     "traceback": [
      "\u001b[0;31m---------------------------------------------------------------------------\u001b[0m",
      "\u001b[0;31mTypeError\u001b[0m                                 Traceback (most recent call last)",
      "\u001b[0;32m<ipython-input-52-5ffcf24ea84c>\u001b[0m in \u001b[0;36m<module>\u001b[0;34m()\u001b[0m\n\u001b[1;32m      1\u001b[0m \u001b[0mmonkeyed\u001b[0m \u001b[0;34m=\u001b[0m \u001b[0mmonkey_patch\u001b[0m\u001b[0;34m(\u001b[0m\u001b[0mbottom\u001b[0m\u001b[0;34m,\u001b[0m \u001b[0mjob_class\u001b[0m\u001b[0;34m)\u001b[0m\u001b[0;34m\u001b[0m\u001b[0m\n\u001b[0;32m----> 2\u001b[0;31m \u001b[0mmonkeyed\u001b[0m\u001b[0;34m(\u001b[0m\u001b[0;34m)\u001b[0m\u001b[0;34m.\u001b[0m\u001b[0mmapper\u001b[0m\u001b[0;34m(\u001b[0m\u001b[0;34m)\u001b[0m\u001b[0;34m\u001b[0m\u001b[0m\n\u001b[0m",
      "\u001b[0;31mTypeError\u001b[0m: mapper() missing 2 required positional arguments: 'node' and 'd'"
     ]
    }
   ],
   "source": [
    "monkeyed = monkey_patch(bottom, job_class)\n",
    "monkeyed().mapper()"
   ]
  },
  {
   "cell_type": "code",
   "execution_count": null,
   "metadata": {},
   "outputs": [],
   "source": []
  },
  {
   "cell_type": "code",
   "execution_count": null,
   "metadata": {
    "collapsed": true
   },
   "outputs": [],
   "source": []
  },
  {
   "cell_type": "code",
   "execution_count": null,
   "metadata": {},
   "outputs": [],
   "source": []
  },
  {
   "cell_type": "code",
   "execution_count": 44,
   "metadata": {
    "collapsed": true
   },
   "outputs": [],
   "source": [
    "def monkey_patch(sid_code, job_class):\n",
    "    monkey_class =\"class Monkey:\\n   \"+sid_code\n",
    "    exec(monkey_class)\n",
    "    monkey = locals()['Monkey']\n",
    "    job_class.sampler = monkey.sampler\n",
    "    job_class.mapper = monkey.mapper\n",
    "    job_class.reducer = monkey.reducer\n",
    "    return job_class"
   ]
  },
  {
   "cell_type": "code",
   "execution_count": null,
   "metadata": {
    "collapsed": true
   },
   "outputs": [],
   "source": []
  }
 ],
 "metadata": {
  "kernelspec": {
   "display_name": "Python 3",
   "language": "python",
   "name": "python3"
  },
  "language_info": {
   "codemirror_mode": {
    "name": "ipython",
    "version": 3
   },
   "file_extension": ".py",
   "mimetype": "text/x-python",
   "name": "python",
   "nbconvert_exporter": "python",
   "pygments_lexer": "ipython3",
   "version": "3.4.3"
  }
 },
 "nbformat": 4,
 "nbformat_minor": 2
}
