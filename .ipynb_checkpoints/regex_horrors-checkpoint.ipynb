{
 "cells": [
  {
   "cell_type": "code",
   "execution_count": 1,
   "metadata": {
    "collapsed": true
   },
   "outputs": [],
   "source": [
    "codestring = 'class SenseReduce:\\n    def __init__(self):\\n        self.sensenodes = [[1]]\\n        self.mapnodes =  [[1]]\\n        self.reducenodes =  [[1]]\\n    def sampler(self,node):\\n        acc = yield from node.accel(40)\\n        return acc\\n    def mapper(self,node,d):\\n        yield(node.ID, d)\\n    def reducer(self,node,k,vs):\\n        yield(k,vs)\\n'"
   ]
  },
  {
   "cell_type": "code",
   "execution_count": 2,
   "metadata": {},
   "outputs": [
    {
     "name": "stdout",
     "output_type": "stream",
     "text": [
      "class SenseReduce:\n",
      "    def __init__(self):\n",
      "        self.sensenodes = [[1]]\n",
      "        self.mapnodes =  [[1]]\n",
      "        self.reducenodes =  [[1]]\n",
      "    def sampler(self,node):\n",
      "        acc = yield from node.accel(40)\n",
      "        return acc\n",
      "    def mapper(self,node,d):\n",
      "        yield(node.ID, d)\n",
      "    def reducer(self,node,k,vs):\n",
      "        yield(k,vs)\n",
      "\n"
     ]
    }
   ],
   "source": [
    "print(codestring)"
   ]
  },
  {
   "cell_type": "code",
   "execution_count": 9,
   "metadata": {},
   "outputs": [
    {
     "name": "stdout",
     "output_type": "stream",
     "text": [
      "class SenseReduce:\n",
      "    def __init__(self):\n",
      "        self.sensenodes = [[1]]\n",
      "        self.mapnodes =  [[1]]\n",
      "        self.reducenodes =  [[1]]\n",
      "    def sampler\n"
     ]
    }
   ],
   "source": [
    "def replace_nodes(codestring, newsense,newmap,newreduce):\n",
    "    with_sense = re.sub(r'sensenodes.*', r'sensenodes = {}'.format(newsense), codestring)\n",
    "    with_map = re.sub(r'mapnodes.*', r'mapnodes = {}'.format(newmap), with_sense)\n",
    "    with_red = re.sub(r'reducenodes.*', r'mapnodes = {}'.format(newreduce), with_map)\n",
    "    return with_red"
   ]
  },
  {
   "cell_type": "code",
   "execution_count": 4,
   "metadata": {},
   "outputs": [
    {
     "data": {
      "text/plain": [
       "['class SenseReduce:\\n    def __init__(self):\\n        self.sensenodes = [[1]]\\n        self.mapnodes =  [[1]]\\n        self.reducenodes =  [[1]]\\n    ',\n",
       " '(self,node):\\n        acc = yield from node.accel(40)\\n        return acc\\n    def mapper(self,node,d):\\n        yield(node.ID, d)\\n    def reducer(self,node,k,vs):\\n        yield(k,vs)\\n']"
      ]
     },
     "execution_count": 4,
     "metadata": {},
     "output_type": "execute_result"
    }
   ],
   "source": [
    "before_after"
   ]
  },
  {
   "cell_type": "code",
   "execution_count": 34,
   "metadata": {},
   "outputs": [
    {
     "name": "stdout",
     "output_type": "stream",
     "text": [
      "class SenseReduce:\n",
      "    def __init__(self):\n",
      "        self.replacement = [45]\n",
      "        self.mapnodes =  [[1]]\n",
      "        self.reducenodes =  [[1]]\n",
      "    def sampler(self,node):\n",
      "        acc = yield from node.accel(40)\n",
      "        return acc\n",
      "    def mapper(self,node,d):\n",
      "        yield(node.ID, d)\n",
      "    def reducer(self,node,k,vs):\n",
      "        yield(k,vs)\n",
      "\n"
     ]
    }
   ],
   "source": [
    "import re\n",
    "print(re.sub(r'sensenodes.*', r'replacement = {}'.format([45]), codestring))"
   ]
  },
  {
   "cell_type": "code",
   "execution_count": 33,
   "metadata": {},
   "outputs": [
    {
     "data": {
      "text/plain": [
       "'replacement = [45]'"
      ]
     },
     "execution_count": 33,
     "metadata": {},
     "output_type": "execute_result"
    }
   ],
   "source": [
    "r'replacement = {}'.format([45])"
   ]
  },
  {
   "cell_type": "code",
   "execution_count": null,
   "metadata": {
    "collapsed": true
   },
   "outputs": [],
   "source": []
  }
 ],
 "metadata": {
  "kernelspec": {
   "display_name": "Python 3",
   "language": "python",
   "name": "python3"
  },
  "language_info": {
   "codemirror_mode": {
    "name": "ipython",
    "version": 3
   },
   "file_extension": ".py",
   "mimetype": "text/x-python",
   "name": "python",
   "nbconvert_exporter": "python",
   "pygments_lexer": "ipython3",
   "version": "3.4.3"
  }
 },
 "nbformat": 4,
 "nbformat_minor": 2
}
