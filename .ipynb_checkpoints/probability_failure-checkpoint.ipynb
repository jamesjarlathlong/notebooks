{
 "cells": [
  {
   "cell_type": "code",
   "execution_count": 18,
   "metadata": {
    "collapsed": true
   },
   "outputs": [],
   "source": [
    "fortyone =[{66: [((0, 0), 2)]}, {66: [((0, 0), 95), ((0, 1), 2), ((1, 0), 4)]}, {66: [((0, 0), 2)]}, {66: [((0, 0), 8)]}, {66: [((0, 0), 3), ((1, 0), 2)]}, {69: [((0, 0), 5), ((0, 1), 2)]}, {70: [((0, 0), 2)]}, {70: [((0, 0), 2), ((2, 1), 2)]}, {70: [((0, 0), 2)]}, {69: [((0, 0), 2)]}, {69: [((0, 0), 2), ((0, 1), 2)]}, {70: [((0, 1), 2)]}, {70: [((0, 0), 3)]}, {71: [((0, 0), 2)]}, {71: [((0, 0), 3), ((0, 1), 2)]}, {74: [((0, 2), 2)]}, {74: [((0, 0), 6), ((0, 1), 2), ((0, 2), 2)]}, {74: [((0, 0), 2)]}, {74: [((0, 0), 2), ((0, 1), 6), ((1, 1), 2)]}, {74: [((0, 0), 2)]}, {74: [((0, 0), 5), ((0, 1), 3), ((1, 1), 2)]}, {72: [((0, 1), 2)]}, {72: [((0, 0), 3)]}, {72: [((0, 2), 2)]}, {72: [((0, 0), 2), ((0, 1), 2)]}, {70: [((0, 1), 2)]}, {70: [((0, 0), 3)]}, {71: [((0, 1), 2)]}, {71: [((1, 2), 2), ((0, 0), 62), ((0, 1), 35), ((0, 2), 2), ((1, 1), 2)]}, {71: [((0, 1), 2)]}, {71: [((1, 0), 2), ((0, 0), 63), ((0, 1), 34), ((1, 1), 2), ((0, 2), 2)]}, {70: [((0, 0), 2)]}, {70: [((0, 0), 4)]}, {70: [((0, 1), 2)]}, {70: [((0, 0), 66), ((0, 1), 31), ((0, 2), 4)]}, {65: [((0, 0), 4)]}]\n",
    "thirtyone =[{58: [((0, 0), 6)]}, {59: [((0, 0), 3)]}, {59: [((0, 0), 2)]}, {51: [((0, 0), 2)]}, {51: [((0, 0), 98)]}, {51: [((0, 0), 2)]}, {51: [((0, 0), 98)]}, {51: [((0, 0), 2)]}, {51: [((0, 0), 98)]}, {52: [((0, 0), 2)]}]\n",
    "forty = [{77: [((11, 2), 2), ((0, 0), 2), ((0, 1), 3)]}, {73: [((0, 1), 2)]}, {73: [((2, 2), 2), ((0, 1), 2)]}, {73: [((0, 1), 2), ((2, 1), 2)]}, {-99: [((4, 0), 2), ((14, 2), 2)]}, {-99: [((0, 0), 4)]}, {74: [((19, 0), 2), ((4, 1), 2), ((15, 1), 2), ((8, 1), 2)]}, {78: [((12, 1), 2), ((7, 1), 2)]}, {78: [((0, 0), 3)]}, {78: [((0, 0), 2), ((8, 2), 2)]}, {-99: [((2, 2), 2), ((0, 1), 2)]}, {-99: [((6, 0), 2), ((0, 1), 2)]}, {-99: [((4, 0), 2), ((2, 0), 2)]}, {-99: [((0, 0), 2)]}, {-99: [((11, 1), 2)]}, {81: [((0, 0), 2), ((3, 0), 2)]}, {81: [((12, 2), 2), ((0, 1), 2)]}, {75: [((0, 0), 2), ((0, 1), 3)]}, {75: [((0, 0), 2), ((1, 0), 2), ((1, 1), 2)]}, {81: [((0, 0), 2), ((9, 0), 2), ((3, 0), 2)]}, {-99: [((0, 0), 3), ((15, 1), 2)]}, {-99: [((2, 2), 2), ((11, 1), 2), ((0, 0), 2)]}, {-99: [((17, 2), 2), ((1, 2), 2)]}, {-99: [((2, 2), 2), ((0, 0), 2), ((1, 0), 2)]}, {-99: [((0, 0), 3), ((2, 0), 2)]}, {85: [((4, 0), 2), ((1, 0), 2), ((22, 1), 2)]}, {85: [((1, 0), 3), ((2, 1), 2)]}, {85: [((0, 0), 2), ((0, 1), 3)]}, {85: [((0, 0), 3)]}, {85: [((0, 1), 4)]}, {85: [((0, 0), 4)]}, {85: [((0, 0), 2), ((0, 1), 2), ((1, 0), 2)]}, {81: [((0, 0), 3), ((1, 0), 2), ((1, 1), 2)]}, {81: [((0, 0), 4), ((2, 1), 2)]}, {81: [((0, 0), 3), ((0, 1), 3)]}, {81: [((0, 0), 3)]}, {83: [((0, 0), 5)]}, {83: [((0, 0), 4), ((0, 2), 2)]}, {83: [((0, 0), 4), ((0, 1), 2)]}, {-99: [((0, 0), 4)]}, {-99: [((0, 0), 4)]}, {-99: [((0, 0), 3), ((0, 1), 2)]}, {-99: [((2, 2), 2), ((0, 1), 2)]}, {73: [((0, 0), 4), ((0, 1), 2)]}, {73: [((0, 0), 3), ((0, 2), 3)]}, {73: [((0, 0), 3), ((0, 1), 2), ((2, 0), 2)]}, {73: [((0, 0), 5)]}, {73: [((6, 1), 2), ((1, 0), 2), ((0, 0), 2), ((2, 1), 2)]}, {73: [((0, 1), 4)]}, {78: [((0, 0), 3), ((0, 1), 2)]}, {78: [((4, 1), 2), ((0, 0), 2), ((2, 1), 2)]}, {-99: [((0, 0), 2), ((1, 0), 3)]}, {69: [((0, 0), 2), ((0, 1), 2), ((0, 2), 2)]}, {69: [((0, 1), 3), ((1, 0), 2)]}, {69: [((0, 1), 3), ((2, 1), 2)]}, {-99: [((0, 0), 2)]}, {-99: [((5, 0), 2), ((0, 0), 2), ((2, 1), 2)]}, {-99: [((0, 1), 2), ((0, 2), 2), ((1, 0), 2)]}, {79: [((0, 0), 5)]}, {79: [((0, 0), 4), ((0, 1), 2)]}, {79: [((0, 0), 4), ((1, 0), 2)]}, {79: [((0, 0), 3), ((0, 1), 2)]}, {81: [((0, 0), 4), ((0, 1), 2)]}, {81: [((0, 0), 5)]}, {81: [((0, 0), 4), ((1, 1), 2)]}, {71: [((0, 0), 2), ((0, 1), 2), ((1, 0), 2), ((1, 2), 2)]}, {71: [((0, 0), 3), ((0, 1), 2), ((1, 2), 2)]}, {71: [((0, 0), 4), ((0, 1), 2)]}, {-99: [((0, 0), 2)]}, {79: [((0, 0), 4), ((1, 0), 2)]}, {79: [((0, 0), 5)]}, {79: [((0, 0), 2), ((0, 1), 2), ((1, 1), 2)]}, {81: [((0, 0), 5)]}, {81: [((0, 0), 4), ((0, 1), 2)]}, {81: [((0, 0), 5)]}, {-99: [((0, 0), 3)]}, {79: [((0, 0), 3), ((0, 1), 2)]}, {79: [((0, 1), 3), ((1, 1), 2)]}, {-99: [((0, 1), 3), ((1, 1), 2)]}, {77: [((0, 0), 2), ((1, 0), 2), ((2, 0), 2)]}, {77: [((0, 0), 3), ((0, 1), 2)]}, {77: [((0, 0), 3), ((1, 0), 2)]}, {-99: [((0, 1), 2)]}, {77: [((0, 0), 5)]}, {77: [((0, 0), 5)]}, {-99: [((0, 0), 3), ((2, 0), 2)]}, {74: [((0, 0), 4), ((0, 1), 2)]}, {74: [((0, 0), 4), ((0, 1), 2)]}, {74: [((0, 0), 5)]}, {-99: [((0, 0), 2), ((0, 2), 2)]}, {79: [((2, 2), 2), ((0, 0), 3), ((1, 1), 2)]}, {79: [((0, 0), 5)]}, {79: [((0, 0), 3), ((0, 1), 2)]}, {74: [((0, 0), 5)]}, {74: [((0, 0), 3), ((0, 1), 3)]}, {74: [((0, 0), 4), ((0, 1), 2)]}, {-99: [((0, 1), 2)]}, {76: [((0, 0), 3), ((1, 0), 2)]}, {76: [((2, 2), 2), ((0, 1), 2), ((1, 2), 2)]}, {-99: [((0, 0), 3)]}, {77: [((0, 0), 4), ((1, 0), 2)]}]\n",
    "fifteen = \n",
    "somedata = fortyone+thirtyone+forty"
   ]
  },
  {
   "cell_type": "code",
   "execution_count": 19,
   "metadata": {
    "collapsed": true
   },
   "outputs": [],
   "source": [
    "import itertools\n",
    "import functools\n",
    "sns.set_style(\"white\", {\n",
    "        \"font.family\": \"serif\",\n",
    "        \"font.serif\": [\"Times\", \"Palatino\", \"serif\"]\n",
    "})"
   ]
  },
  {
   "cell_type": "code",
   "execution_count": 33,
   "metadata": {},
   "outputs": [
    {
     "name": "stdout",
     "output_type": "stream",
     "text": [
      "[(65, 1.0), (66, 0.855072463768116), (69, 0.4461538461538462), (70, 0.6827956989247311), (71, 0.6181818181818182), (72, 0.5789473684210527), (73, 0.27710843373493976), (74, 0.19306930693069307), (75, 0.39285714285714285), (76, 0.24444444444444444), (77, 0.2708333333333333), (78, 0.09401709401709402), (79, 0.5038167938931297), (81, 0.24642857142857144), (51, 1.0), (52, 1.0), (85, 0.14042553191489363), (83, 0.7391304347826086), (58, 1.0), (59, 1.0)]\n"
     ]
    }
   ],
   "source": [
    "def calc_attempts(level, retries):\n",
    "    #(0,0)->1 success 1 attempt\n",
    "    #(0,1)->1 success 2 attempts\n",
    "    #(0,2)->1 success 3 attempts\n",
    "    #(1,0)->1 success 4 attempts\n",
    "    return 3*level + retries+1\n",
    "def calc_rate(lst):\n",
    "    #given a list like this[((0, 0), 95), ((0, 1), 2), ((1, 0), 4)]\n",
    "    #return [(numsent, numattempts),(numsent, numattempts)]\n",
    "    tmp = [(i[1],i[1]*calc_attempts(*i[0])) for i in lst]\n",
    "    return tmp\n",
    "def merge_attemptsuccesses(successtuples):\n",
    "    return sum([i[0] for i in successtuples]),sum([i[1] for i in successtuples])\n",
    "def chunk_success_rates(chunkentries):\n",
    "    return [(k,merge_attemptsuccesses(calc_rate(v)))\n",
    "            for entry in chunkentries\n",
    "            for k,v in entry.items()]\n",
    "def aggregate_by_rssi(chunkrates):\n",
    "    #take list of (rssi, (sent, attempted)) and return an overall rate for each rssi\n",
    "    inorder = sorted(chunkrates, key=lambda x: x[0])\n",
    "    grouper = itertools.groupby(inorder, key = lambda x:x[0])\n",
    "    concatted = {k:list((i[1] for i in g)) for k,g in grouper}\n",
    "    tallied = {k:merge_attemptsuccesses(v) for k,v in concatted.items()}\n",
    "    return tallied\n",
    "def tallies_to_rates(d):\n",
    "    return [(k,v[0]/v[1]) for k,v in d.items()]\n",
    "res = aggregate_by_rssi(chunk_success_rates(somedata))\n",
    "rate_res = tallies_to_rates(res)\n",
    "rate_res = [k for k in rate_res if k[0]!=-99]\n",
    "print(rate_res)"
   ]
  },
  {
   "cell_type": "code",
   "execution_count": 42,
   "metadata": {},
   "outputs": [],
   "source": [
    "def probability_success(failure_when_perfect, rssi):\n",
    "    \"\"\"failure_when_perfect is the probability of a failed packet\n",
    "    when the rssi is of very high quality\n",
    "    rssi is in -db, usually in the range -40 to -100\"\"\"\n",
    "    import math\n",
    "    sigmoid = (1-failure_when_perfect)/(1+math.exp(-0.25*(75+rssi)))\n",
    "    return sigmoid\n",
    "calced = [(k, probability_success(0.01,-k)) for k in range(40,100,1)]\n"
   ]
  },
  {
   "cell_type": "code",
   "execution_count": 48,
   "metadata": {},
   "outputs": [
    {
     "data": {
      "image/png": "[encoded data removed]",
      "text/plain": [
       "<matplotlib.figure.Figure at 0x7fd9423a1080>"
      ]
     },
     "metadata": {},
     "output_type": "display_data"
    }
   ],
   "source": [
    "import seaborn as sns\n",
    "import matplotlib.pyplot as plt\n",
    "%matplotlib inline\n",
    "fig,ax = plt.subplots(1)\n",
    "ax.scatter([k[0] for k in rate_res], [k[1] for k in rate_res], color = '#525252',label='observed data')\n",
    "ax.plot([k[0] for k in calced], [k[1] for k in calced],linestyle='--', color = '#252525', label='predictive model')\n",
    "sns.despine(top=True,right=True)\n",
    "ax.set_xlabel('Signal strength indicator (dB)')\n",
    "ax.set_ylabel('Observed probability of failure')\n",
    "ax.legend(loc='best')\n",
    "ax.set_xlim([40,100])\n",
    "fig.savefig('db.png')"
   ]
  },
  {
   "cell_type": "code",
   "execution_count": null,
   "metadata": {
    "collapsed": true
   },
   "outputs": [],
   "source": []
  },
  {
   "cell_type": "code",
   "execution_count": null,
   "metadata": {
    "collapsed": true
   },
   "outputs": [],
   "source": []
  }
 ],
 "metadata": {
  "kernelspec": {
   "display_name": "Python 3",
   "language": "python",
   "name": "python3"
  },
  "language_info": {
   "codemirror_mode": {
    "name": "ipython",
    "version": 3
   },
   "file_extension": ".py",
   "mimetype": "text/x-python",
   "name": "python",
   "nbconvert_exporter": "python",
   "pygments_lexer": "ipython3",
   "version": "3.4.3"
  }
 },
 "nbformat": 4,
 "nbformat_minor": 2
}
