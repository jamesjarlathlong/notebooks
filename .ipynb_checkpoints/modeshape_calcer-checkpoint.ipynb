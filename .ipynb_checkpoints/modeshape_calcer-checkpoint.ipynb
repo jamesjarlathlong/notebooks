{
 "cells": [
  {
   "cell_type": "code",
   "execution_count": 1,
   "metadata": {},
   "outputs": [
    {
     "name": "stdout",
     "output_type": "stream",
     "text": [
      "/home/james/Dropbox (MIT)/All_Resourceful/localgateway/beeview_gateway\n"
     ]
    }
   ],
   "source": [
    "cd .."
   ]
  },
  {
   "cell_type": "code",
   "execution_count": 9,
   "metadata": {},
   "outputs": [
    {
     "name": "stdout",
     "output_type": "stream",
     "text": [
      "[20, 21, 22, 23, 24, 65, 25, 17, 27, 18, 29, 6, 54, 55, 56, 58, 59, 66, 60, 61, 62, 63, 64, 96, 41, 42, 43, 44, 45, 5, 46, 47, 49, 52, 53, 68, 95, 31, 32, 33, 7, 15, 36, 37, 38, 39, 40, 69]\n",
      "0 96\n",
      "1 69\n",
      "2 66\n",
      "3 95\n",
      "{5: [1], 6: [2], 7: [3], 15: [3], 17: [1], 18: [2], 20: [0], 21: [1], 22: [2], 23: [3], 24: [0], 25: [1], 27: [3], 29: [1], 31: [3], 32: [0], 33: [1], 36: [0], 37: [1], 38: [2], 39: [3], 40: [0], 41: [1], 42: [2], 43: [3], 44: [0], 45: [1], 46: [2], 47: [3], 49: [1], 52: [0], 53: [1], 54: [2], 55: [3], 56: [0], 58: [2], 59: [3], 60: [0], 61: [1], 62: [2], 63: [3], 64: [0], 65: [1], 66: [2, 3], 68: [0], 69: [1, 2], 95: [3], 96: [0, 1]}\n"
     ]
    }
   ],
   "source": [
    "from algorithms import np\n",
    "import pandas as pd\n",
    "import itertools\n",
    "import math\n",
    "import functools\n",
    "import numpy\n",
    "import seaborn as sns\n",
    "import collections\n",
    "sns.set_style(\"white\", {\n",
    "        \"font.family\": \"serif\",\n",
    "        \"font.serif\": [\"Times\", \"Palatino\", \"serif\"]\n",
    "})\n",
    "import matplotlib.pyplot as plt\n",
    "%matplotlib inline\n",
    "all_data = pd.read_csv('notebook_analysis/intact_whitenoise_1_100Hz.csv')\n",
    "coorddata = pd.read_csv('notebook_analysis/node_coords.csv',\n",
    "                        dtype={'Node':numpy.int64},index_col='Node')\n",
    "\n",
    "def translater(nodeax):\n",
    "    node, ax = int(nodeax[0:-1]),nodeax[-1]\n",
    "    translat = coorddata['Index'].to_dict()\n",
    "    return translat[node]+ax\n",
    "nodes = [63,41,15,95,96,53,55,31,22,17,18,56,58,61,64,43,46,49,68,32,37,39,40,69]\n",
    "allnodes = [i for i in coorddata.index.tolist() if i <100]\n",
    "print(allnodes)\n",
    "neighborhoods = {node:[node%4] for node in allnodes}\n",
    "biggest_modx = lambda lst, x: max([i for i in lst if i%4==x])\n",
    "largesteach = [(i,biggest_modx(allnodes, i)) for i in range(4)]\n",
    "for i,largest in largesteach:\n",
    "    if i+1 in range(4):\n",
    "        neighborhoods[largest].append(i+1)\n",
    "print(neighborhoods)"
   ]
  },
  {
   "cell_type": "code",
   "execution_count": 10,
   "metadata": {},
   "outputs": [
    {
     "data": {
      "text/plain": [
       "[(1, 0.0244140625),\n",
       " (2, 0.048828125),\n",
       " (3, 0.0732421875),\n",
       " (616, 15.0390625),\n",
       " (615, 15.0146484375),\n",
       " (634, 15.478515625),\n",
       " (645, 15.7470703125),\n",
       " (598, 14.599609375),\n",
       " (597, 14.5751953125),\n",
       " (640, 15.625)]"
      ]
     },
     "execution_count": 10,
     "metadata": {},
     "output_type": "execute_result"
    },
    {
     "data": {
      "image/png": "[encoded data removed]",
      "text/plain": [
       "<matplotlib.figure.Figure at 0x7f3912dff550>"
      ]
     },
     "metadata": {},
     "output_type": "display_data"
    }
   ],
   "source": [
    "fig, ax= plt.subplots(1)\n",
    "def get_fs(data, f):\n",
    "    #eg f= 100 hz, duration =60s\n",
    "    nbins = int(len(data)/2)\n",
    "    nyquist = f/2\n",
    "    stepsize = nyquist/nbins\n",
    "    fftbins = [i*stepsize for i in range(nbins)]\n",
    "    return fftbins\n",
    "def maxer(fs,response):\n",
    "    biggest = sorted(response,key = lambda x: abs(x), reverse=True)[:10]\n",
    "    def getvals(x):\n",
    "        idx = response.index(x)\n",
    "        return idx, fs[idx]\n",
    "    return [getvals(i) for i in biggest]\n",
    "data = all_data['41x'].tolist()[0:2**12]\n",
    "fft = list(map(abs, np.fft(data)))\n",
    "fs = get_fs(data, 100)\n",
    "ax.plot(fs, fft[0:2048], color = '#525252', linewidth=1)\n",
    "ax.set_xlabel('Frequency (Hz)')\n",
    "ax.set_xlim([0,50])\n",
    "sns.despine()\n",
    "#print('largest response at {}Hz, index{}'.format(*maxer(fs, fft[0:2048])))\n",
    "maxer(fs, fft[0:2048])"
   ]
  },
  {
   "cell_type": "code",
   "execution_count": 27,
   "metadata": {},
   "outputs": [
    {
     "data": {
      "text/plain": [
       "{('a', (1, 2)), ('b', (3, 4)), ('c', (5, 6))}"
      ]
     },
     "execution_count": 27,
     "metadata": {},
     "output_type": "execute_result"
    }
   ],
   "source": [
    "def samplestream(nodes, all_data):\n",
    "    all_idxs = (str(x)+y for x,y in itertools.product(nodes, ['x','y','z']))\n",
    "    return [(x, all_data[translater(x)].tolist()[0:2**12]) for x in all_idxs]\n",
    "def mapper(d):\n",
    "    idx = 616\n",
    "    nodeid, data = d\n",
    "    ftpeak = np.fft(data)[idx]\n",
    "    c = lambda d: (round(d.real,6),round(d.imag,6))\n",
    "    return (0,(nodeid,c(ftpeak)))\n",
    "def shuffler(kvstream):\n",
    "    flat = list(itertools.chain(*kvstream))\n",
    "    sortedkvs = sorted(flat, key=lambda x: x[0])\n",
    "    print('sorted: ', sortedkvs)\n",
    "    grouped = itertools.groupby(sortedkvs, key=lambda x:x[0])\n",
    "    return ((k,[i[1] for i in g]) for k,g in grouped)\n",
    "def reducer(kvs):\n",
    "    k,vs =kvs\n",
    "    ws = [complex(*i[1]) for i in vs]\n",
    "    G = np.spectral_mat(ws)\n",
    "    eig = np.pagerank(G)\n",
    "    c = lambda d: (round(d.real,2),round(d.imag,2))\n",
    "    ms = [(vs[idx][0],c(el)) for idx,el in enumerate(eig)]\n",
    "    yield (k,ms)\n",
    "def dmapper(neighborhoods, d):\n",
    "    nodeid, data = d\n",
    "    nodenum = int(nodeid[0:-1])\n",
    "    hoods = neighborhoods[nodenum]\n",
    "    idx = 616\n",
    "    ftpeak = np.fft(data)[idx]\n",
    "    c = lambda d: (round(d.real,6),round(d.imag,6))\n",
    "    return [(i,(nodeid, c(ftpeak))) for i in hoods]\n",
    "\n",
    "def mr(streamfun, mapfun, redfun):\n",
    "    mappit = functools.partial(map, mapfun)\n",
    "    reducit = functools.partial(map,redfun)\n",
    "    return list(reducit(shuffler(mappit(streamfun()))))\n",
    "def merger(lst):\n",
    "    accer = lambda acc, el: acc+el[1]\n",
    "    return functools.reduce(accer, lst,[])\n",
    "def dfdd_merger(lst):\n",
    "    \"\"\"for example [('0',[('a',(1,2)),('b',(3,4))],\n",
    "                    ('1',[('b',(2,3)),('c',(4,5))]) -? to equalise bs, must subtract (1,1) from everything in 2\n",
    "                    ]\n",
    "    should return [('a',(1,2)),('b',(3,4)),('c',(3+4))\n",
    "    \"\"\"\n",
    "    def accer(acc, el):\n",
    "        def tuplediff(x,y):\n",
    "            return (x[0], (x[1][0]-y[1][0],x[1][1]-y[1][1]))\n",
    "        def tupleadd(x,y):\n",
    "            return (x[0], (x[1][0]+y[1][0],x[1][1]+y[1][1]))\n",
    "        def match_or_none(lst, key):\n",
    "            try:\n",
    "                matcher = next((i for i in allcombs if key(i)))\n",
    "                return matcher\n",
    "            except StopIteration:\n",
    "                return \n",
    "        newnodes = el[1]\n",
    "        allcombs = list(itertools.product(acc, newnodes))\n",
    "        matcher = match_or_none(allcombs, key=lambda i: i[0][0]==i[1][0])\n",
    "        diff = tuplediff(*matcher) if matcher else ('None',(0,0))\n",
    "        superposed = [tupleadd(i,diff) for i in newnodes]\n",
    "        acc.update(superposed)\n",
    "        return acc\n",
    "    return functools.reduce(accer, lst, set())\n",
    "import functools\n",
    "    #return functools.reduce(accer, lst, set())\n",
    "dfdd_merger([['0',[('a',(1,2)),('b',(3,4))]],\n",
    "             ['1',[('b',(2,3)),('c',(4,5))]],\n",
    "           ])"
   ]
  },
  {
   "cell_type": "code",
   "execution_count": 22,
   "metadata": {},
   "outputs": [
    {
     "ename": "TypeError",
     "evalue": "'generator' object is not subscriptable",
     "output_type": "error",
     "traceback": [
      "\u001b[0;31m---------------------------------------------------------------------------\u001b[0m",
      "\u001b[0;31mTypeError\u001b[0m                                 Traceback (most recent call last)",
      "\u001b[0;32m<ipython-input-22-e224a6fab38b>\u001b[0m in \u001b[0;36m<module>\u001b[0;34m()\u001b[0m\n\u001b[1;32m      1\u001b[0m \u001b[0mstream\u001b[0m \u001b[0;34m=\u001b[0m \u001b[0mfunctools\u001b[0m\u001b[0;34m.\u001b[0m\u001b[0mpartial\u001b[0m\u001b[0;34m(\u001b[0m\u001b[0msamplestream\u001b[0m\u001b[0;34m,\u001b[0m\u001b[0mallnodes\u001b[0m\u001b[0;34m,\u001b[0m \u001b[0mall_data\u001b[0m\u001b[0;34m)\u001b[0m\u001b[0;34m\u001b[0m\u001b[0m\n\u001b[1;32m      2\u001b[0m \u001b[0mr\u001b[0m \u001b[0;34m=\u001b[0m \u001b[0mmr\u001b[0m\u001b[0;34m(\u001b[0m\u001b[0mstream\u001b[0m\u001b[0;34m,\u001b[0m \u001b[0mmapper\u001b[0m\u001b[0;34m,\u001b[0m \u001b[0mreducer\u001b[0m\u001b[0;34m)\u001b[0m\u001b[0;34m\u001b[0m\u001b[0m\n\u001b[0;32m----> 3\u001b[0;31m \u001b[0mres\u001b[0m \u001b[0;34m=\u001b[0m \u001b[0mmerger\u001b[0m\u001b[0;34m(\u001b[0m\u001b[0mr\u001b[0m\u001b[0;34m)\u001b[0m\u001b[0;34m\u001b[0m\u001b[0m\n\u001b[0m",
      "\u001b[0;32m<ipython-input-21-9b2d1c5194e5>\u001b[0m in \u001b[0;36mmerger\u001b[0;34m(lst)\u001b[0m\n\u001b[1;32m     37\u001b[0m \u001b[0;32mdef\u001b[0m \u001b[0mmerger\u001b[0m\u001b[0;34m(\u001b[0m\u001b[0mlst\u001b[0m\u001b[0;34m)\u001b[0m\u001b[0;34m:\u001b[0m\u001b[0;34m\u001b[0m\u001b[0m\n\u001b[1;32m     38\u001b[0m     \u001b[0maccer\u001b[0m \u001b[0;34m=\u001b[0m \u001b[0;32mlambda\u001b[0m \u001b[0macc\u001b[0m\u001b[0;34m,\u001b[0m \u001b[0mel\u001b[0m\u001b[0;34m:\u001b[0m \u001b[0macc\u001b[0m\u001b[0;34m+\u001b[0m\u001b[0mel\u001b[0m\u001b[0;34m[\u001b[0m\u001b[0;36m1\u001b[0m\u001b[0;34m]\u001b[0m\u001b[0;34m\u001b[0m\u001b[0m\n\u001b[0;32m---> 39\u001b[0;31m     \u001b[0;32mreturn\u001b[0m \u001b[0mfunctools\u001b[0m\u001b[0;34m.\u001b[0m\u001b[0mreduce\u001b[0m\u001b[0;34m(\u001b[0m\u001b[0maccer\u001b[0m\u001b[0;34m,\u001b[0m \u001b[0mlst\u001b[0m\u001b[0;34m,\u001b[0m\u001b[0;34m[\u001b[0m\u001b[0;34m]\u001b[0m\u001b[0;34m)\u001b[0m\u001b[0;34m\u001b[0m\u001b[0m\n\u001b[0m\u001b[1;32m     40\u001b[0m \u001b[0;32mdef\u001b[0m \u001b[0mdfdd_merger\u001b[0m\u001b[0;34m(\u001b[0m\u001b[0mlst\u001b[0m\u001b[0;34m)\u001b[0m\u001b[0;34m:\u001b[0m\u001b[0;34m\u001b[0m\u001b[0m\n\u001b[1;32m     41\u001b[0m     \"\"\"for example [('0',[('a',(1,2)),('b',(3,4))],\n",
      "\u001b[0;32m<ipython-input-21-9b2d1c5194e5>\u001b[0m in \u001b[0;36m<lambda>\u001b[0;34m(acc, el)\u001b[0m\n\u001b[1;32m     36\u001b[0m     \u001b[0;32mreturn\u001b[0m \u001b[0mlist\u001b[0m\u001b[0;34m(\u001b[0m\u001b[0mreducit\u001b[0m\u001b[0;34m(\u001b[0m\u001b[0mshuffler\u001b[0m\u001b[0;34m(\u001b[0m\u001b[0mmappit\u001b[0m\u001b[0;34m(\u001b[0m\u001b[0mstreamfun\u001b[0m\u001b[0;34m(\u001b[0m\u001b[0;34m)\u001b[0m\u001b[0;34m)\u001b[0m\u001b[0;34m)\u001b[0m\u001b[0;34m)\u001b[0m\u001b[0;34m)\u001b[0m\u001b[0;34m\u001b[0m\u001b[0m\n\u001b[1;32m     37\u001b[0m \u001b[0;32mdef\u001b[0m \u001b[0mmerger\u001b[0m\u001b[0;34m(\u001b[0m\u001b[0mlst\u001b[0m\u001b[0;34m)\u001b[0m\u001b[0;34m:\u001b[0m\u001b[0;34m\u001b[0m\u001b[0m\n\u001b[0;32m---> 38\u001b[0;31m     \u001b[0maccer\u001b[0m \u001b[0;34m=\u001b[0m \u001b[0;32mlambda\u001b[0m \u001b[0macc\u001b[0m\u001b[0;34m,\u001b[0m \u001b[0mel\u001b[0m\u001b[0;34m:\u001b[0m \u001b[0macc\u001b[0m\u001b[0;34m+\u001b[0m\u001b[0mel\u001b[0m\u001b[0;34m[\u001b[0m\u001b[0;36m1\u001b[0m\u001b[0;34m]\u001b[0m\u001b[0;34m\u001b[0m\u001b[0m\n\u001b[0m\u001b[1;32m     39\u001b[0m     \u001b[0;32mreturn\u001b[0m \u001b[0mfunctools\u001b[0m\u001b[0;34m.\u001b[0m\u001b[0mreduce\u001b[0m\u001b[0;34m(\u001b[0m\u001b[0maccer\u001b[0m\u001b[0;34m,\u001b[0m \u001b[0mlst\u001b[0m\u001b[0;34m,\u001b[0m\u001b[0;34m[\u001b[0m\u001b[0;34m]\u001b[0m\u001b[0;34m)\u001b[0m\u001b[0;34m\u001b[0m\u001b[0m\n\u001b[1;32m     40\u001b[0m \u001b[0;32mdef\u001b[0m \u001b[0mdfdd_merger\u001b[0m\u001b[0;34m(\u001b[0m\u001b[0mlst\u001b[0m\u001b[0;34m)\u001b[0m\u001b[0;34m:\u001b[0m\u001b[0;34m\u001b[0m\u001b[0m\n",
      "\u001b[0;31mTypeError\u001b[0m: 'generator' object is not subscriptable"
     ]
    }
   ],
   "source": [
    "stream = functools.partial(samplestream,allnodes, all_data)\n",
    "r = mr(stream, mapper, reducer)\n",
    "res = merger(r)"
   ]
  },
  {
   "cell_type": "code",
   "execution_count": null,
   "metadata": {},
   "outputs": [
    {
     "name": "stdout",
     "output_type": "stream",
     "text": [
      "{5: [1], 6: [2], 7: [3], 15: [3], 17: [1], 18: [2], 20: [0], 21: [1], 22: [2], 23: [3], 24: [0], 25: [1], 27: [3], 29: [1], 31: [3], 32: [0], 33: [1], 36: [0], 37: [1], 38: [2], 39: [3], 40: [0], 41: [1], 42: [2], 43: [3], 44: [0], 45: [1], 46: [2], 47: [3], 49: [1], 52: [0], 53: [1], 54: [2], 55: [3], 56: [0], 58: [2], 59: [3], 60: [0], 61: [1], 62: [2], 63: [3], 64: [0], 65: [1], 66: [2, 3], 68: [0], 69: [1, 2], 95: [3], 96: [0, 1]}\n",
      "{5: [1], 6: [2], 7: [3], 15: [3], 17: [1], 18: [2], 20: [0], 21: [1], 22: [2], 23: [3], 24: [0], 25: [1], 27: [3], 29: [1], 31: [3], 32: [0], 33: [1], 36: [0], 37: [1], 38: [2], 39: [3], 40: [0], 41: [1], 42: [2], 43: [3], 44: [0], 45: [1], 46: [2], 47: [3], 49: [1], 52: [0], 53: [1], 54: [2], 55: [3], 56: [0], 58: [2], 59: [3], 60: [0], 61: [1], 62: [2], 63: [3], 64: [0], 65: [1], 66: [2, 3], 68: [0], 69: [1, 2], 95: [3], 96: [0, 1]}\n",
      "{5: [1], 6: [2], 7: [3], 15: [3], 17: [1], 18: [2], 20: [0], 21: [1], 22: [2], 23: [3], 24: [0], 25: [1], 27: [3], 29: [1], 31: [3], 32: [0], 33: [1], 36: [0], 37: [1], 38: [2], 39: [3], 40: [0], 41: [1], 42: [2], 43: [3], 44: [0], 45: [1], 46: [2], 47: [3], 49: [1], 52: [0], 53: [1], 54: [2], 55: [3], 56: [0], 58: [2], 59: [3], 60: [0], 61: [1], 62: [2], 63: [3], 64: [0], 65: [1], 66: [2, 3], 68: [0], 69: [1, 2], 95: [3], 96: [0, 1]}\n",
      "{5: [1], 6: [2], 7: [3], 15: [3], 17: [1], 18: [2], 20: [0], 21: [1], 22: [2], 23: [3], 24: [0], 25: [1], 27: [3], 29: [1], 31: [3], 32: [0], 33: [1], 36: [0], 37: [1], 38: [2], 39: [3], 40: [0], 41: [1], 42: [2], 43: [3], 44: [0], 45: [1], 46: [2], 47: [3], 49: [1], 52: [0], 53: [1], 54: [2], 55: [3], 56: [0], 58: [2], 59: [3], 60: [0], 61: [1], 62: [2], 63: [3], 64: [0], 65: [1], 66: [2, 3], 68: [0], 69: [1, 2], 95: [3], 96: [0, 1]}\n",
      "{5: [1], 6: [2], 7: [3], 15: [3], 17: [1], 18: [2], 20: [0], 21: [1], 22: [2], 23: [3], 24: [0], 25: [1], 27: [3], 29: [1], 31: [3], 32: [0], 33: [1], 36: [0], 37: [1], 38: [2], 39: [3], 40: [0], 41: [1], 42: [2], 43: [3], 44: [0], 45: [1], 46: [2], 47: [3], 49: [1], 52: [0], 53: [1], 54: [2], 55: [3], 56: [0], 58: [2], 59: [3], 60: [0], 61: [1], 62: [2], 63: [3], 64: [0], 65: [1], 66: [2, 3], 68: [0], 69: [1, 2], 95: [3], 96: [0, 1]}\n",
      "{5: [1], 6: [2], 7: [3], 15: [3], 17: [1], 18: [2], 20: [0], 21: [1], 22: [2], 23: [3], 24: [0], 25: [1], 27: [3], 29: [1], 31: [3], 32: [0], 33: [1], 36: [0], 37: [1], 38: [2], 39: [3], 40: [0], 41: [1], 42: [2], 43: [3], 44: [0], 45: [1], 46: [2], 47: [3], 49: [1], 52: [0], 53: [1], 54: [2], 55: [3], 56: [0], 58: [2], 59: [3], 60: [0], 61: [1], 62: [2], 63: [3], 64: [0], 65: [1], 66: [2, 3], 68: [0], 69: [1, 2], 95: [3], 96: [0, 1]}\n",
      "{5: [1], 6: [2], 7: [3], 15: [3], 17: [1], 18: [2], 20: [0], 21: [1], 22: [2], 23: [3], 24: [0], 25: [1], 27: [3], 29: [1], 31: [3], 32: [0], 33: [1], 36: [0], 37: [1], 38: [2], 39: [3], 40: [0], 41: [1], 42: [2], 43: [3], 44: [0], 45: [1], 46: [2], 47: [3], 49: [1], 52: [0], 53: [1], 54: [2], 55: [3], 56: [0], 58: [2], 59: [3], 60: [0], 61: [1], 62: [2], 63: [3], 64: [0], 65: [1], 66: [2, 3], 68: [0], 69: [1, 2], 95: [3], 96: [0, 1]}\n",
      "{5: [1], 6: [2], 7: [3], 15: [3], 17: [1], 18: [2], 20: [0], 21: [1], 22: [2], 23: [3], 24: [0], 25: [1], 27: [3], 29: [1], 31: [3], 32: [0], 33: [1], 36: [0], 37: [1], 38: [2], 39: [3], 40: [0], 41: [1], 42: [2], 43: [3], 44: [0], 45: [1], 46: [2], 47: [3], 49: [1], 52: [0], 53: [1], 54: [2], 55: [3], 56: [0], 58: [2], 59: [3], 60: [0], 61: [1], 62: [2], 63: [3], 64: [0], 65: [1], 66: [2, 3], 68: [0], 69: [1, 2], 95: [3], 96: [0, 1]}\n",
      "{5: [1], 6: [2], 7: [3], 15: [3], 17: [1], 18: [2], 20: [0], 21: [1], 22: [2], 23: [3], 24: [0], 25: [1], 27: [3], 29: [1], 31: [3], 32: [0], 33: [1], 36: [0], 37: [1], 38: [2], 39: [3], 40: [0], 41: [1], 42: [2], 43: [3], 44: [0], 45: [1], 46: [2], 47: [3], 49: [1], 52: [0], 53: [1], 54: [2], 55: [3], 56: [0], 58: [2], 59: [3], 60: [0], 61: [1], 62: [2], 63: [3], 64: [0], 65: [1], 66: [2, 3], 68: [0], 69: [1, 2], 95: [3], 96: [0, 1]}\n",
      "{5: [1], 6: [2], 7: [3], 15: [3], 17: [1], 18: [2], 20: [0], 21: [1], 22: [2], 23: [3], 24: [0], 25: [1], 27: [3], 29: [1], 31: [3], 32: [0], 33: [1], 36: [0], 37: [1], 38: [2], 39: [3], 40: [0], 41: [1], 42: [2], 43: [3], 44: [0], 45: [1], 46: [2], 47: [3], 49: [1], 52: [0], 53: [1], 54: [2], 55: [3], 56: [0], 58: [2], 59: [3], 60: [0], 61: [1], 62: [2], 63: [3], 64: [0], 65: [1], 66: [2, 3], 68: [0], 69: [1, 2], 95: [3], 96: [0, 1]}\n",
      "{5: [1], 6: [2], 7: [3], 15: [3], 17: [1], 18: [2], 20: [0], 21: [1], 22: [2], 23: [3], 24: [0], 25: [1], 27: [3], 29: [1], 31: [3], 32: [0], 33: [1], 36: [0], 37: [1], 38: [2], 39: [3], 40: [0], 41: [1], 42: [2], 43: [3], 44: [0], 45: [1], 46: [2], 47: [3], 49: [1], 52: [0], 53: [1], 54: [2], 55: [3], 56: [0], 58: [2], 59: [3], 60: [0], 61: [1], 62: [2], 63: [3], 64: [0], 65: [1], 66: [2, 3], 68: [0], 69: [1, 2], 95: [3], 96: [0, 1]}\n",
      "{5: [1], 6: [2], 7: [3], 15: [3], 17: [1], 18: [2], 20: [0], 21: [1], 22: [2], 23: [3], 24: [0], 25: [1], 27: [3], 29: [1], 31: [3], 32: [0], 33: [1], 36: [0], 37: [1], 38: [2], 39: [3], 40: [0], 41: [1], 42: [2], 43: [3], 44: [0], 45: [1], 46: [2], 47: [3], 49: [1], 52: [0], 53: [1], 54: [2], 55: [3], 56: [0], 58: [2], 59: [3], 60: [0], 61: [1], 62: [2], 63: [3], 64: [0], 65: [1], 66: [2, 3], 68: [0], 69: [1, 2], 95: [3], 96: [0, 1]}\n",
      "{5: [1], 6: [2], 7: [3], 15: [3], 17: [1], 18: [2], 20: [0], 21: [1], 22: [2], 23: [3], 24: [0], 25: [1], 27: [3], 29: [1], 31: [3], 32: [0], 33: [1], 36: [0], 37: [1], 38: [2], 39: [3], 40: [0], 41: [1], 42: [2], 43: [3], 44: [0], 45: [1], 46: [2], 47: [3], 49: [1], 52: [0], 53: [1], 54: [2], 55: [3], 56: [0], 58: [2], 59: [3], 60: [0], 61: [1], 62: [2], 63: [3], 64: [0], 65: [1], 66: [2, 3], 68: [0], 69: [1, 2], 95: [3], 96: [0, 1]}\n",
      "{5: [1], 6: [2], 7: [3], 15: [3], 17: [1], 18: [2], 20: [0], 21: [1], 22: [2], 23: [3], 24: [0], 25: [1], 27: [3], 29: [1], 31: [3], 32: [0], 33: [1], 36: [0], 37: [1], 38: [2], 39: [3], 40: [0], 41: [1], 42: [2], 43: [3], 44: [0], 45: [1], 46: [2], 47: [3], 49: [1], 52: [0], 53: [1], 54: [2], 55: [3], 56: [0], 58: [2], 59: [3], 60: [0], 61: [1], 62: [2], 63: [3], 64: [0], 65: [1], 66: [2, 3], 68: [0], 69: [1, 2], 95: [3], 96: [0, 1]}\n",
      "{5: [1], 6: [2], 7: [3], 15: [3], 17: [1], 18: [2], 20: [0], 21: [1], 22: [2], 23: [3], 24: [0], 25: [1], 27: [3], 29: [1], 31: [3], 32: [0], 33: [1], 36: [0], 37: [1], 38: [2], 39: [3], 40: [0], 41: [1], 42: [2], 43: [3], 44: [0], 45: [1], 46: [2], 47: [3], 49: [1], 52: [0], 53: [1], 54: [2], 55: [3], 56: [0], 58: [2], 59: [3], 60: [0], 61: [1], 62: [2], 63: [3], 64: [0], 65: [1], 66: [2, 3], 68: [0], 69: [1, 2], 95: [3], 96: [0, 1]}\n",
      "{5: [1], 6: [2], 7: [3], 15: [3], 17: [1], 18: [2], 20: [0], 21: [1], 22: [2], 23: [3], 24: [0], 25: [1], 27: [3], 29: [1], 31: [3], 32: [0], 33: [1], 36: [0], 37: [1], 38: [2], 39: [3], 40: [0], 41: [1], 42: [2], 43: [3], 44: [0], 45: [1], 46: [2], 47: [3], 49: [1], 52: [0], 53: [1], 54: [2], 55: [3], 56: [0], 58: [2], 59: [3], 60: [0], 61: [1], 62: [2], 63: [3], 64: [0], 65: [1], 66: [2, 3], 68: [0], 69: [1, 2], 95: [3], 96: [0, 1]}\n",
      "{5: [1], 6: [2], 7: [3], 15: [3], 17: [1], 18: [2], 20: [0], 21: [1], 22: [2], 23: [3], 24: [0], 25: [1], 27: [3], 29: [1], 31: [3], 32: [0], 33: [1], 36: [0], 37: [1], 38: [2], 39: [3], 40: [0], 41: [1], 42: [2], 43: [3], 44: [0], 45: [1], 46: [2], 47: [3], 49: [1], 52: [0], 53: [1], 54: [2], 55: [3], 56: [0], 58: [2], 59: [3], 60: [0], 61: [1], 62: [2], 63: [3], 64: [0], 65: [1], 66: [2, 3], 68: [0], 69: [1, 2], 95: [3], 96: [0, 1]}\n",
      "{5: [1], 6: [2], 7: [3], 15: [3], 17: [1], 18: [2], 20: [0], 21: [1], 22: [2], 23: [3], 24: [0], 25: [1], 27: [3], 29: [1], 31: [3], 32: [0], 33: [1], 36: [0], 37: [1], 38: [2], 39: [3], 40: [0], 41: [1], 42: [2], 43: [3], 44: [0], 45: [1], 46: [2], 47: [3], 49: [1], 52: [0], 53: [1], 54: [2], 55: [3], 56: [0], 58: [2], 59: [3], 60: [0], 61: [1], 62: [2], 63: [3], 64: [0], 65: [1], 66: [2, 3], 68: [0], 69: [1, 2], 95: [3], 96: [0, 1]}\n",
      "{5: [1], 6: [2], 7: [3], 15: [3], 17: [1], 18: [2], 20: [0], 21: [1], 22: [2], 23: [3], 24: [0], 25: [1], 27: [3], 29: [1], 31: [3], 32: [0], 33: [1], 36: [0], 37: [1], 38: [2], 39: [3], 40: [0], 41: [1], 42: [2], 43: [3], 44: [0], 45: [1], 46: [2], 47: [3], 49: [1], 52: [0], 53: [1], 54: [2], 55: [3], 56: [0], 58: [2], 59: [3], 60: [0], 61: [1], 62: [2], 63: [3], 64: [0], 65: [1], 66: [2, 3], 68: [0], 69: [1, 2], 95: [3], 96: [0, 1]}\n",
      "{5: [1], 6: [2], 7: [3], 15: [3], 17: [1], 18: [2], 20: [0], 21: [1], 22: [2], 23: [3], 24: [0], 25: [1], 27: [3], 29: [1], 31: [3], 32: [0], 33: [1], 36: [0], 37: [1], 38: [2], 39: [3], 40: [0], 41: [1], 42: [2], 43: [3], 44: [0], 45: [1], 46: [2], 47: [3], 49: [1], 52: [0], 53: [1], 54: [2], 55: [3], 56: [0], 58: [2], 59: [3], 60: [0], 61: [1], 62: [2], 63: [3], 64: [0], 65: [1], 66: [2, 3], 68: [0], 69: [1, 2], 95: [3], 96: [0, 1]}\n",
      "{5: [1], 6: [2], 7: [3], 15: [3], 17: [1], 18: [2], 20: [0], 21: [1], 22: [2], 23: [3], 24: [0], 25: [1], 27: [3], 29: [1], 31: [3], 32: [0], 33: [1], 36: [0], 37: [1], 38: [2], 39: [3], 40: [0], 41: [1], 42: [2], 43: [3], 44: [0], 45: [1], 46: [2], 47: [3], 49: [1], 52: [0], 53: [1], 54: [2], 55: [3], 56: [0], 58: [2], 59: [3], 60: [0], 61: [1], 62: [2], 63: [3], 64: [0], 65: [1], 66: [2, 3], 68: [0], 69: [1, 2], 95: [3], 96: [0, 1]}\n",
      "{5: [1], 6: [2], 7: [3], 15: [3], 17: [1], 18: [2], 20: [0], 21: [1], 22: [2], 23: [3], 24: [0], 25: [1], 27: [3], 29: [1], 31: [3], 32: [0], 33: [1], 36: [0], 37: [1], 38: [2], 39: [3], 40: [0], 41: [1], 42: [2], 43: [3], 44: [0], 45: [1], 46: [2], 47: [3], 49: [1], 52: [0], 53: [1], 54: [2], 55: [3], 56: [0], 58: [2], 59: [3], 60: [0], 61: [1], 62: [2], 63: [3], 64: [0], 65: [1], 66: [2, 3], 68: [0], 69: [1, 2], 95: [3], 96: [0, 1]}\n"
     ]
    },
    {
     "name": "stdout",
     "output_type": "stream",
     "text": [
      "{5: [1], 6: [2], 7: [3], 15: [3], 17: [1], 18: [2], 20: [0], 21: [1], 22: [2], 23: [3], 24: [0], 25: [1], 27: [3], 29: [1], 31: [3], 32: [0], 33: [1], 36: [0], 37: [1], 38: [2], 39: [3], 40: [0], 41: [1], 42: [2], 43: [3], 44: [0], 45: [1], 46: [2], 47: [3], 49: [1], 52: [0], 53: [1], 54: [2], 55: [3], 56: [0], 58: [2], 59: [3], 60: [0], 61: [1], 62: [2], 63: [3], 64: [0], 65: [1], 66: [2, 3], 68: [0], 69: [1, 2], 95: [3], 96: [0, 1]}\n",
      "{5: [1], 6: [2], 7: [3], 15: [3], 17: [1], 18: [2], 20: [0], 21: [1], 22: [2], 23: [3], 24: [0], 25: [1], 27: [3], 29: [1], 31: [3], 32: [0], 33: [1], 36: [0], 37: [1], 38: [2], 39: [3], 40: [0], 41: [1], 42: [2], 43: [3], 44: [0], 45: [1], 46: [2], 47: [3], 49: [1], 52: [0], 53: [1], 54: [2], 55: [3], 56: [0], 58: [2], 59: [3], 60: [0], 61: [1], 62: [2], 63: [3], 64: [0], 65: [1], 66: [2, 3], 68: [0], 69: [1, 2], 95: [3], 96: [0, 1]}\n",
      "{5: [1], 6: [2], 7: [3], 15: [3], 17: [1], 18: [2], 20: [0], 21: [1], 22: [2], 23: [3], 24: [0], 25: [1], 27: [3], 29: [1], 31: [3], 32: [0], 33: [1], 36: [0], 37: [1], 38: [2], 39: [3], 40: [0], 41: [1], 42: [2], 43: [3], 44: [0], 45: [1], 46: [2], 47: [3], 49: [1], 52: [0], 53: [1], 54: [2], 55: [3], 56: [0], 58: [2], 59: [3], 60: [0], 61: [1], 62: [2], 63: [3], 64: [0], 65: [1], 66: [2, 3], 68: [0], 69: [1, 2], 95: [3], 96: [0, 1]}\n",
      "{5: [1], 6: [2], 7: [3], 15: [3], 17: [1], 18: [2], 20: [0], 21: [1], 22: [2], 23: [3], 24: [0], 25: [1], 27: [3], 29: [1], 31: [3], 32: [0], 33: [1], 36: [0], 37: [1], 38: [2], 39: [3], 40: [0], 41: [1], 42: [2], 43: [3], 44: [0], 45: [1], 46: [2], 47: [3], 49: [1], 52: [0], 53: [1], 54: [2], 55: [3], 56: [0], 58: [2], 59: [3], 60: [0], 61: [1], 62: [2], 63: [3], 64: [0], 65: [1], 66: [2, 3], 68: [0], 69: [1, 2], 95: [3], 96: [0, 1]}\n",
      "{5: [1], 6: [2], 7: [3], 15: [3], 17: [1], 18: [2], 20: [0], 21: [1], 22: [2], 23: [3], 24: [0], 25: [1], 27: [3], 29: [1], 31: [3], 32: [0], 33: [1], 36: [0], 37: [1], 38: [2], 39: [3], 40: [0], 41: [1], 42: [2], 43: [3], 44: [0], 45: [1], 46: [2], 47: [3], 49: [1], 52: [0], 53: [1], 54: [2], 55: [3], 56: [0], 58: [2], 59: [3], 60: [0], 61: [1], 62: [2], 63: [3], 64: [0], 65: [1], 66: [2, 3], 68: [0], 69: [1, 2], 95: [3], 96: [0, 1]}\n",
      "{5: [1], 6: [2], 7: [3], 15: [3], 17: [1], 18: [2], 20: [0], 21: [1], 22: [2], 23: [3], 24: [0], 25: [1], 27: [3], 29: [1], 31: [3], 32: [0], 33: [1], 36: [0], 37: [1], 38: [2], 39: [3], 40: [0], 41: [1], 42: [2], 43: [3], 44: [0], 45: [1], 46: [2], 47: [3], 49: [1], 52: [0], 53: [1], 54: [2], 55: [3], 56: [0], 58: [2], 59: [3], 60: [0], 61: [1], 62: [2], 63: [3], 64: [0], 65: [1], 66: [2, 3], 68: [0], 69: [1, 2], 95: [3], 96: [0, 1]}\n",
      "{5: [1], 6: [2], 7: [3], 15: [3], 17: [1], 18: [2], 20: [0], 21: [1], 22: [2], 23: [3], 24: [0], 25: [1], 27: [3], 29: [1], 31: [3], 32: [0], 33: [1], 36: [0], 37: [1], 38: [2], 39: [3], 40: [0], 41: [1], 42: [2], 43: [3], 44: [0], 45: [1], 46: [2], 47: [3], 49: [1], 52: [0], 53: [1], 54: [2], 55: [3], 56: [0], 58: [2], 59: [3], 60: [0], 61: [1], 62: [2], 63: [3], 64: [0], 65: [1], 66: [2, 3], 68: [0], 69: [1, 2], 95: [3], 96: [0, 1]}\n",
      "{5: [1], 6: [2], 7: [3], 15: [3], 17: [1], 18: [2], 20: [0], 21: [1], 22: [2], 23: [3], 24: [0], 25: [1], 27: [3], 29: [1], 31: [3], 32: [0], 33: [1], 36: [0], 37: [1], 38: [2], 39: [3], 40: [0], 41: [1], 42: [2], 43: [3], 44: [0], 45: [1], 46: [2], 47: [3], 49: [1], 52: [0], 53: [1], 54: [2], 55: [3], 56: [0], 58: [2], 59: [3], 60: [0], 61: [1], 62: [2], 63: [3], 64: [0], 65: [1], 66: [2, 3], 68: [0], 69: [1, 2], 95: [3], 96: [0, 1]}\n",
      "{5: [1], 6: [2], 7: [3], 15: [3], 17: [1], 18: [2], 20: [0], 21: [1], 22: [2], 23: [3], 24: [0], 25: [1], 27: [3], 29: [1], 31: [3], 32: [0], 33: [1], 36: [0], 37: [1], 38: [2], 39: [3], 40: [0], 41: [1], 42: [2], 43: [3], 44: [0], 45: [1], 46: [2], 47: [3], 49: [1], 52: [0], 53: [1], 54: [2], 55: [3], 56: [0], 58: [2], 59: [3], 60: [0], 61: [1], 62: [2], 63: [3], 64: [0], 65: [1], 66: [2, 3], 68: [0], 69: [1, 2], 95: [3], 96: [0, 1]}\n",
      "{5: [1], 6: [2], 7: [3], 15: [3], 17: [1], 18: [2], 20: [0], 21: [1], 22: [2], 23: [3], 24: [0], 25: [1], 27: [3], 29: [1], 31: [3], 32: [0], 33: [1], 36: [0], 37: [1], 38: [2], 39: [3], 40: [0], 41: [1], 42: [2], 43: [3], 44: [0], 45: [1], 46: [2], 47: [3], 49: [1], 52: [0], 53: [1], 54: [2], 55: [3], 56: [0], 58: [2], 59: [3], 60: [0], 61: [1], 62: [2], 63: [3], 64: [0], 65: [1], 66: [2, 3], 68: [0], 69: [1, 2], 95: [3], 96: [0, 1]}\n",
      "{5: [1], 6: [2], 7: [3], 15: [3], 17: [1], 18: [2], 20: [0], 21: [1], 22: [2], 23: [3], 24: [0], 25: [1], 27: [3], 29: [1], 31: [3], 32: [0], 33: [1], 36: [0], 37: [1], 38: [2], 39: [3], 40: [0], 41: [1], 42: [2], 43: [3], 44: [0], 45: [1], 46: [2], 47: [3], 49: [1], 52: [0], 53: [1], 54: [2], 55: [3], 56: [0], 58: [2], 59: [3], 60: [0], 61: [1], 62: [2], 63: [3], 64: [0], 65: [1], 66: [2, 3], 68: [0], 69: [1, 2], 95: [3], 96: [0, 1]}\n",
      "{5: [1], 6: [2], 7: [3], 15: [3], 17: [1], 18: [2], 20: [0], 21: [1], 22: [2], 23: [3], 24: [0], 25: [1], 27: [3], 29: [1], 31: [3], 32: [0], 33: [1], 36: [0], 37: [1], 38: [2], 39: [3], 40: [0], 41: [1], 42: [2], 43: [3], 44: [0], 45: [1], 46: [2], 47: [3], 49: [1], 52: [0], 53: [1], 54: [2], 55: [3], 56: [0], 58: [2], 59: [3], 60: [0], 61: [1], 62: [2], 63: [3], 64: [0], 65: [1], 66: [2, 3], 68: [0], 69: [1, 2], 95: [3], 96: [0, 1]}\n",
      "{5: [1], 6: [2], 7: [3], 15: [3], 17: [1], 18: [2], 20: [0], 21: [1], 22: [2], 23: [3], 24: [0], 25: [1], 27: [3], 29: [1], 31: [3], 32: [0], 33: [1], 36: [0], 37: [1], 38: [2], 39: [3], 40: [0], 41: [1], 42: [2], 43: [3], 44: [0], 45: [1], 46: [2], 47: [3], 49: [1], 52: [0], 53: [1], 54: [2], 55: [3], 56: [0], 58: [2], 59: [3], 60: [0], 61: [1], 62: [2], 63: [3], 64: [0], 65: [1], 66: [2, 3], 68: [0], 69: [1, 2], 95: [3], 96: [0, 1]}\n",
      "{5: [1], 6: [2], 7: [3], 15: [3], 17: [1], 18: [2], 20: [0], 21: [1], 22: [2], 23: [3], 24: [0], 25: [1], 27: [3], 29: [1], 31: [3], 32: [0], 33: [1], 36: [0], 37: [1], 38: [2], 39: [3], 40: [0], 41: [1], 42: [2], 43: [3], 44: [0], 45: [1], 46: [2], 47: [3], 49: [1], 52: [0], 53: [1], 54: [2], 55: [3], 56: [0], 58: [2], 59: [3], 60: [0], 61: [1], 62: [2], 63: [3], 64: [0], 65: [1], 66: [2, 3], 68: [0], 69: [1, 2], 95: [3], 96: [0, 1]}\n",
      "{5: [1], 6: [2], 7: [3], 15: [3], 17: [1], 18: [2], 20: [0], 21: [1], 22: [2], 23: [3], 24: [0], 25: [1], 27: [3], 29: [1], 31: [3], 32: [0], 33: [1], 36: [0], 37: [1], 38: [2], 39: [3], 40: [0], 41: [1], 42: [2], 43: [3], 44: [0], 45: [1], 46: [2], 47: [3], 49: [1], 52: [0], 53: [1], 54: [2], 55: [3], 56: [0], 58: [2], 59: [3], 60: [0], 61: [1], 62: [2], 63: [3], 64: [0], 65: [1], 66: [2, 3], 68: [0], 69: [1, 2], 95: [3], 96: [0, 1]}\n",
      "{5: [1], 6: [2], 7: [3], 15: [3], 17: [1], 18: [2], 20: [0], 21: [1], 22: [2], 23: [3], 24: [0], 25: [1], 27: [3], 29: [1], 31: [3], 32: [0], 33: [1], 36: [0], 37: [1], 38: [2], 39: [3], 40: [0], 41: [1], 42: [2], 43: [3], 44: [0], 45: [1], 46: [2], 47: [3], 49: [1], 52: [0], 53: [1], 54: [2], 55: [3], 56: [0], 58: [2], 59: [3], 60: [0], 61: [1], 62: [2], 63: [3], 64: [0], 65: [1], 66: [2, 3], 68: [0], 69: [1, 2], 95: [3], 96: [0, 1]}\n",
      "{5: [1], 6: [2], 7: [3], 15: [3], 17: [1], 18: [2], 20: [0], 21: [1], 22: [2], 23: [3], 24: [0], 25: [1], 27: [3], 29: [1], 31: [3], 32: [0], 33: [1], 36: [0], 37: [1], 38: [2], 39: [3], 40: [0], 41: [1], 42: [2], 43: [3], 44: [0], 45: [1], 46: [2], 47: [3], 49: [1], 52: [0], 53: [1], 54: [2], 55: [3], 56: [0], 58: [2], 59: [3], 60: [0], 61: [1], 62: [2], 63: [3], 64: [0], 65: [1], 66: [2, 3], 68: [0], 69: [1, 2], 95: [3], 96: [0, 1]}\n",
      "{5: [1], 6: [2], 7: [3], 15: [3], 17: [1], 18: [2], 20: [0], 21: [1], 22: [2], 23: [3], 24: [0], 25: [1], 27: [3], 29: [1], 31: [3], 32: [0], 33: [1], 36: [0], 37: [1], 38: [2], 39: [3], 40: [0], 41: [1], 42: [2], 43: [3], 44: [0], 45: [1], 46: [2], 47: [3], 49: [1], 52: [0], 53: [1], 54: [2], 55: [3], 56: [0], 58: [2], 59: [3], 60: [0], 61: [1], 62: [2], 63: [3], 64: [0], 65: [1], 66: [2, 3], 68: [0], 69: [1, 2], 95: [3], 96: [0, 1]}\n",
      "{5: [1], 6: [2], 7: [3], 15: [3], 17: [1], 18: [2], 20: [0], 21: [1], 22: [2], 23: [3], 24: [0], 25: [1], 27: [3], 29: [1], 31: [3], 32: [0], 33: [1], 36: [0], 37: [1], 38: [2], 39: [3], 40: [0], 41: [1], 42: [2], 43: [3], 44: [0], 45: [1], 46: [2], 47: [3], 49: [1], 52: [0], 53: [1], 54: [2], 55: [3], 56: [0], 58: [2], 59: [3], 60: [0], 61: [1], 62: [2], 63: [3], 64: [0], 65: [1], 66: [2, 3], 68: [0], 69: [1, 2], 95: [3], 96: [0, 1]}\n",
      "{5: [1], 6: [2], 7: [3], 15: [3], 17: [1], 18: [2], 20: [0], 21: [1], 22: [2], 23: [3], 24: [0], 25: [1], 27: [3], 29: [1], 31: [3], 32: [0], 33: [1], 36: [0], 37: [1], 38: [2], 39: [3], 40: [0], 41: [1], 42: [2], 43: [3], 44: [0], 45: [1], 46: [2], 47: [3], 49: [1], 52: [0], 53: [1], 54: [2], 55: [3], 56: [0], 58: [2], 59: [3], 60: [0], 61: [1], 62: [2], 63: [3], 64: [0], 65: [1], 66: [2, 3], 68: [0], 69: [1, 2], 95: [3], 96: [0, 1]}\n",
      "{5: [1], 6: [2], 7: [3], 15: [3], 17: [1], 18: [2], 20: [0], 21: [1], 22: [2], 23: [3], 24: [0], 25: [1], 27: [3], 29: [1], 31: [3], 32: [0], 33: [1], 36: [0], 37: [1], 38: [2], 39: [3], 40: [0], 41: [1], 42: [2], 43: [3], 44: [0], 45: [1], 46: [2], 47: [3], 49: [1], 52: [0], 53: [1], 54: [2], 55: [3], 56: [0], 58: [2], 59: [3], 60: [0], 61: [1], 62: [2], 63: [3], 64: [0], 65: [1], 66: [2, 3], 68: [0], 69: [1, 2], 95: [3], 96: [0, 1]}\n",
      "{5: [1], 6: [2], 7: [3], 15: [3], 17: [1], 18: [2], 20: [0], 21: [1], 22: [2], 23: [3], 24: [0], 25: [1], 27: [3], 29: [1], 31: [3], 32: [0], 33: [1], 36: [0], 37: [1], 38: [2], 39: [3], 40: [0], 41: [1], 42: [2], 43: [3], 44: [0], 45: [1], 46: [2], 47: [3], 49: [1], 52: [0], 53: [1], 54: [2], 55: [3], 56: [0], 58: [2], 59: [3], 60: [0], 61: [1], 62: [2], 63: [3], 64: [0], 65: [1], 66: [2, 3], 68: [0], 69: [1, 2], 95: [3], 96: [0, 1]}\n"
     ]
    },
    {
     "name": "stdout",
     "output_type": "stream",
     "text": [
      "{5: [1], 6: [2], 7: [3], 15: [3], 17: [1], 18: [2], 20: [0], 21: [1], 22: [2], 23: [3], 24: [0], 25: [1], 27: [3], 29: [1], 31: [3], 32: [0], 33: [1], 36: [0], 37: [1], 38: [2], 39: [3], 40: [0], 41: [1], 42: [2], 43: [3], 44: [0], 45: [1], 46: [2], 47: [3], 49: [1], 52: [0], 53: [1], 54: [2], 55: [3], 56: [0], 58: [2], 59: [3], 60: [0], 61: [1], 62: [2], 63: [3], 64: [0], 65: [1], 66: [2, 3], 68: [0], 69: [1, 2], 95: [3], 96: [0, 1]}\n",
      "{5: [1], 6: [2], 7: [3], 15: [3], 17: [1], 18: [2], 20: [0], 21: [1], 22: [2], 23: [3], 24: [0], 25: [1], 27: [3], 29: [1], 31: [3], 32: [0], 33: [1], 36: [0], 37: [1], 38: [2], 39: [3], 40: [0], 41: [1], 42: [2], 43: [3], 44: [0], 45: [1], 46: [2], 47: [3], 49: [1], 52: [0], 53: [1], 54: [2], 55: [3], 56: [0], 58: [2], 59: [3], 60: [0], 61: [1], 62: [2], 63: [3], 64: [0], 65: [1], 66: [2, 3], 68: [0], 69: [1, 2], 95: [3], 96: [0, 1]}\n",
      "{5: [1], 6: [2], 7: [3], 15: [3], 17: [1], 18: [2], 20: [0], 21: [1], 22: [2], 23: [3], 24: [0], 25: [1], 27: [3], 29: [1], 31: [3], 32: [0], 33: [1], 36: [0], 37: [1], 38: [2], 39: [3], 40: [0], 41: [1], 42: [2], 43: [3], 44: [0], 45: [1], 46: [2], 47: [3], 49: [1], 52: [0], 53: [1], 54: [2], 55: [3], 56: [0], 58: [2], 59: [3], 60: [0], 61: [1], 62: [2], 63: [3], 64: [0], 65: [1], 66: [2, 3], 68: [0], 69: [1, 2], 95: [3], 96: [0, 1]}\n",
      "{5: [1], 6: [2], 7: [3], 15: [3], 17: [1], 18: [2], 20: [0], 21: [1], 22: [2], 23: [3], 24: [0], 25: [1], 27: [3], 29: [1], 31: [3], 32: [0], 33: [1], 36: [0], 37: [1], 38: [2], 39: [3], 40: [0], 41: [1], 42: [2], 43: [3], 44: [0], 45: [1], 46: [2], 47: [3], 49: [1], 52: [0], 53: [1], 54: [2], 55: [3], 56: [0], 58: [2], 59: [3], 60: [0], 61: [1], 62: [2], 63: [3], 64: [0], 65: [1], 66: [2, 3], 68: [0], 69: [1, 2], 95: [3], 96: [0, 1]}\n",
      "{5: [1], 6: [2], 7: [3], 15: [3], 17: [1], 18: [2], 20: [0], 21: [1], 22: [2], 23: [3], 24: [0], 25: [1], 27: [3], 29: [1], 31: [3], 32: [0], 33: [1], 36: [0], 37: [1], 38: [2], 39: [3], 40: [0], 41: [1], 42: [2], 43: [3], 44: [0], 45: [1], 46: [2], 47: [3], 49: [1], 52: [0], 53: [1], 54: [2], 55: [3], 56: [0], 58: [2], 59: [3], 60: [0], 61: [1], 62: [2], 63: [3], 64: [0], 65: [1], 66: [2, 3], 68: [0], 69: [1, 2], 95: [3], 96: [0, 1]}\n",
      "{5: [1], 6: [2], 7: [3], 15: [3], 17: [1], 18: [2], 20: [0], 21: [1], 22: [2], 23: [3], 24: [0], 25: [1], 27: [3], 29: [1], 31: [3], 32: [0], 33: [1], 36: [0], 37: [1], 38: [2], 39: [3], 40: [0], 41: [1], 42: [2], 43: [3], 44: [0], 45: [1], 46: [2], 47: [3], 49: [1], 52: [0], 53: [1], 54: [2], 55: [3], 56: [0], 58: [2], 59: [3], 60: [0], 61: [1], 62: [2], 63: [3], 64: [0], 65: [1], 66: [2, 3], 68: [0], 69: [1, 2], 95: [3], 96: [0, 1]}\n",
      "{5: [1], 6: [2], 7: [3], 15: [3], 17: [1], 18: [2], 20: [0], 21: [1], 22: [2], 23: [3], 24: [0], 25: [1], 27: [3], 29: [1], 31: [3], 32: [0], 33: [1], 36: [0], 37: [1], 38: [2], 39: [3], 40: [0], 41: [1], 42: [2], 43: [3], 44: [0], 45: [1], 46: [2], 47: [3], 49: [1], 52: [0], 53: [1], 54: [2], 55: [3], 56: [0], 58: [2], 59: [3], 60: [0], 61: [1], 62: [2], 63: [3], 64: [0], 65: [1], 66: [2, 3], 68: [0], 69: [1, 2], 95: [3], 96: [0, 1]}\n",
      "{5: [1], 6: [2], 7: [3], 15: [3], 17: [1], 18: [2], 20: [0], 21: [1], 22: [2], 23: [3], 24: [0], 25: [1], 27: [3], 29: [1], 31: [3], 32: [0], 33: [1], 36: [0], 37: [1], 38: [2], 39: [3], 40: [0], 41: [1], 42: [2], 43: [3], 44: [0], 45: [1], 46: [2], 47: [3], 49: [1], 52: [0], 53: [1], 54: [2], 55: [3], 56: [0], 58: [2], 59: [3], 60: [0], 61: [1], 62: [2], 63: [3], 64: [0], 65: [1], 66: [2, 3], 68: [0], 69: [1, 2], 95: [3], 96: [0, 1]}\n",
      "{5: [1], 6: [2], 7: [3], 15: [3], 17: [1], 18: [2], 20: [0], 21: [1], 22: [2], 23: [3], 24: [0], 25: [1], 27: [3], 29: [1], 31: [3], 32: [0], 33: [1], 36: [0], 37: [1], 38: [2], 39: [3], 40: [0], 41: [1], 42: [2], 43: [3], 44: [0], 45: [1], 46: [2], 47: [3], 49: [1], 52: [0], 53: [1], 54: [2], 55: [3], 56: [0], 58: [2], 59: [3], 60: [0], 61: [1], 62: [2], 63: [3], 64: [0], 65: [1], 66: [2, 3], 68: [0], 69: [1, 2], 95: [3], 96: [0, 1]}\n",
      "{5: [1], 6: [2], 7: [3], 15: [3], 17: [1], 18: [2], 20: [0], 21: [1], 22: [2], 23: [3], 24: [0], 25: [1], 27: [3], 29: [1], 31: [3], 32: [0], 33: [1], 36: [0], 37: [1], 38: [2], 39: [3], 40: [0], 41: [1], 42: [2], 43: [3], 44: [0], 45: [1], 46: [2], 47: [3], 49: [1], 52: [0], 53: [1], 54: [2], 55: [3], 56: [0], 58: [2], 59: [3], 60: [0], 61: [1], 62: [2], 63: [3], 64: [0], 65: [1], 66: [2, 3], 68: [0], 69: [1, 2], 95: [3], 96: [0, 1]}\n",
      "{5: [1], 6: [2], 7: [3], 15: [3], 17: [1], 18: [2], 20: [0], 21: [1], 22: [2], 23: [3], 24: [0], 25: [1], 27: [3], 29: [1], 31: [3], 32: [0], 33: [1], 36: [0], 37: [1], 38: [2], 39: [3], 40: [0], 41: [1], 42: [2], 43: [3], 44: [0], 45: [1], 46: [2], 47: [3], 49: [1], 52: [0], 53: [1], 54: [2], 55: [3], 56: [0], 58: [2], 59: [3], 60: [0], 61: [1], 62: [2], 63: [3], 64: [0], 65: [1], 66: [2, 3], 68: [0], 69: [1, 2], 95: [3], 96: [0, 1]}\n",
      "{5: [1], 6: [2], 7: [3], 15: [3], 17: [1], 18: [2], 20: [0], 21: [1], 22: [2], 23: [3], 24: [0], 25: [1], 27: [3], 29: [1], 31: [3], 32: [0], 33: [1], 36: [0], 37: [1], 38: [2], 39: [3], 40: [0], 41: [1], 42: [2], 43: [3], 44: [0], 45: [1], 46: [2], 47: [3], 49: [1], 52: [0], 53: [1], 54: [2], 55: [3], 56: [0], 58: [2], 59: [3], 60: [0], 61: [1], 62: [2], 63: [3], 64: [0], 65: [1], 66: [2, 3], 68: [0], 69: [1, 2], 95: [3], 96: [0, 1]}\n",
      "{5: [1], 6: [2], 7: [3], 15: [3], 17: [1], 18: [2], 20: [0], 21: [1], 22: [2], 23: [3], 24: [0], 25: [1], 27: [3], 29: [1], 31: [3], 32: [0], 33: [1], 36: [0], 37: [1], 38: [2], 39: [3], 40: [0], 41: [1], 42: [2], 43: [3], 44: [0], 45: [1], 46: [2], 47: [3], 49: [1], 52: [0], 53: [1], 54: [2], 55: [3], 56: [0], 58: [2], 59: [3], 60: [0], 61: [1], 62: [2], 63: [3], 64: [0], 65: [1], 66: [2, 3], 68: [0], 69: [1, 2], 95: [3], 96: [0, 1]}\n",
      "{5: [1], 6: [2], 7: [3], 15: [3], 17: [1], 18: [2], 20: [0], 21: [1], 22: [2], 23: [3], 24: [0], 25: [1], 27: [3], 29: [1], 31: [3], 32: [0], 33: [1], 36: [0], 37: [1], 38: [2], 39: [3], 40: [0], 41: [1], 42: [2], 43: [3], 44: [0], 45: [1], 46: [2], 47: [3], 49: [1], 52: [0], 53: [1], 54: [2], 55: [3], 56: [0], 58: [2], 59: [3], 60: [0], 61: [1], 62: [2], 63: [3], 64: [0], 65: [1], 66: [2, 3], 68: [0], 69: [1, 2], 95: [3], 96: [0, 1]}\n",
      "{5: [1], 6: [2], 7: [3], 15: [3], 17: [1], 18: [2], 20: [0], 21: [1], 22: [2], 23: [3], 24: [0], 25: [1], 27: [3], 29: [1], 31: [3], 32: [0], 33: [1], 36: [0], 37: [1], 38: [2], 39: [3], 40: [0], 41: [1], 42: [2], 43: [3], 44: [0], 45: [1], 46: [2], 47: [3], 49: [1], 52: [0], 53: [1], 54: [2], 55: [3], 56: [0], 58: [2], 59: [3], 60: [0], 61: [1], 62: [2], 63: [3], 64: [0], 65: [1], 66: [2, 3], 68: [0], 69: [1, 2], 95: [3], 96: [0, 1]}\n",
      "{5: [1], 6: [2], 7: [3], 15: [3], 17: [1], 18: [2], 20: [0], 21: [1], 22: [2], 23: [3], 24: [0], 25: [1], 27: [3], 29: [1], 31: [3], 32: [0], 33: [1], 36: [0], 37: [1], 38: [2], 39: [3], 40: [0], 41: [1], 42: [2], 43: [3], 44: [0], 45: [1], 46: [2], 47: [3], 49: [1], 52: [0], 53: [1], 54: [2], 55: [3], 56: [0], 58: [2], 59: [3], 60: [0], 61: [1], 62: [2], 63: [3], 64: [0], 65: [1], 66: [2, 3], 68: [0], 69: [1, 2], 95: [3], 96: [0, 1]}\n",
      "{5: [1], 6: [2], 7: [3], 15: [3], 17: [1], 18: [2], 20: [0], 21: [1], 22: [2], 23: [3], 24: [0], 25: [1], 27: [3], 29: [1], 31: [3], 32: [0], 33: [1], 36: [0], 37: [1], 38: [2], 39: [3], 40: [0], 41: [1], 42: [2], 43: [3], 44: [0], 45: [1], 46: [2], 47: [3], 49: [1], 52: [0], 53: [1], 54: [2], 55: [3], 56: [0], 58: [2], 59: [3], 60: [0], 61: [1], 62: [2], 63: [3], 64: [0], 65: [1], 66: [2, 3], 68: [0], 69: [1, 2], 95: [3], 96: [0, 1]}\n",
      "{5: [1], 6: [2], 7: [3], 15: [3], 17: [1], 18: [2], 20: [0], 21: [1], 22: [2], 23: [3], 24: [0], 25: [1], 27: [3], 29: [1], 31: [3], 32: [0], 33: [1], 36: [0], 37: [1], 38: [2], 39: [3], 40: [0], 41: [1], 42: [2], 43: [3], 44: [0], 45: [1], 46: [2], 47: [3], 49: [1], 52: [0], 53: [1], 54: [2], 55: [3], 56: [0], 58: [2], 59: [3], 60: [0], 61: [1], 62: [2], 63: [3], 64: [0], 65: [1], 66: [2, 3], 68: [0], 69: [1, 2], 95: [3], 96: [0, 1]}\n",
      "{5: [1], 6: [2], 7: [3], 15: [3], 17: [1], 18: [2], 20: [0], 21: [1], 22: [2], 23: [3], 24: [0], 25: [1], 27: [3], 29: [1], 31: [3], 32: [0], 33: [1], 36: [0], 37: [1], 38: [2], 39: [3], 40: [0], 41: [1], 42: [2], 43: [3], 44: [0], 45: [1], 46: [2], 47: [3], 49: [1], 52: [0], 53: [1], 54: [2], 55: [3], 56: [0], 58: [2], 59: [3], 60: [0], 61: [1], 62: [2], 63: [3], 64: [0], 65: [1], 66: [2, 3], 68: [0], 69: [1, 2], 95: [3], 96: [0, 1]}\n",
      "{5: [1], 6: [2], 7: [3], 15: [3], 17: [1], 18: [2], 20: [0], 21: [1], 22: [2], 23: [3], 24: [0], 25: [1], 27: [3], 29: [1], 31: [3], 32: [0], 33: [1], 36: [0], 37: [1], 38: [2], 39: [3], 40: [0], 41: [1], 42: [2], 43: [3], 44: [0], 45: [1], 46: [2], 47: [3], 49: [1], 52: [0], 53: [1], 54: [2], 55: [3], 56: [0], 58: [2], 59: [3], 60: [0], 61: [1], 62: [2], 63: [3], 64: [0], 65: [1], 66: [2, 3], 68: [0], 69: [1, 2], 95: [3], 96: [0, 1]}\n",
      "{5: [1], 6: [2], 7: [3], 15: [3], 17: [1], 18: [2], 20: [0], 21: [1], 22: [2], 23: [3], 24: [0], 25: [1], 27: [3], 29: [1], 31: [3], 32: [0], 33: [1], 36: [0], 37: [1], 38: [2], 39: [3], 40: [0], 41: [1], 42: [2], 43: [3], 44: [0], 45: [1], 46: [2], 47: [3], 49: [1], 52: [0], 53: [1], 54: [2], 55: [3], 56: [0], 58: [2], 59: [3], 60: [0], 61: [1], 62: [2], 63: [3], 64: [0], 65: [1], 66: [2, 3], 68: [0], 69: [1, 2], 95: [3], 96: [0, 1]}\n",
      "{5: [1], 6: [2], 7: [3], 15: [3], 17: [1], 18: [2], 20: [0], 21: [1], 22: [2], 23: [3], 24: [0], 25: [1], 27: [3], 29: [1], 31: [3], 32: [0], 33: [1], 36: [0], 37: [1], 38: [2], 39: [3], 40: [0], 41: [1], 42: [2], 43: [3], 44: [0], 45: [1], 46: [2], 47: [3], 49: [1], 52: [0], 53: [1], 54: [2], 55: [3], 56: [0], 58: [2], 59: [3], 60: [0], 61: [1], 62: [2], 63: [3], 64: [0], 65: [1], 66: [2, 3], 68: [0], 69: [1, 2], 95: [3], 96: [0, 1]}\n"
     ]
    },
    {
     "name": "stdout",
     "output_type": "stream",
     "text": [
      "{5: [1], 6: [2], 7: [3], 15: [3], 17: [1], 18: [2], 20: [0], 21: [1], 22: [2], 23: [3], 24: [0], 25: [1], 27: [3], 29: [1], 31: [3], 32: [0], 33: [1], 36: [0], 37: [1], 38: [2], 39: [3], 40: [0], 41: [1], 42: [2], 43: [3], 44: [0], 45: [1], 46: [2], 47: [3], 49: [1], 52: [0], 53: [1], 54: [2], 55: [3], 56: [0], 58: [2], 59: [3], 60: [0], 61: [1], 62: [2], 63: [3], 64: [0], 65: [1], 66: [2, 3], 68: [0], 69: [1, 2], 95: [3], 96: [0, 1]}\n",
      "{5: [1], 6: [2], 7: [3], 15: [3], 17: [1], 18: [2], 20: [0], 21: [1], 22: [2], 23: [3], 24: [0], 25: [1], 27: [3], 29: [1], 31: [3], 32: [0], 33: [1], 36: [0], 37: [1], 38: [2], 39: [3], 40: [0], 41: [1], 42: [2], 43: [3], 44: [0], 45: [1], 46: [2], 47: [3], 49: [1], 52: [0], 53: [1], 54: [2], 55: [3], 56: [0], 58: [2], 59: [3], 60: [0], 61: [1], 62: [2], 63: [3], 64: [0], 65: [1], 66: [2, 3], 68: [0], 69: [1, 2], 95: [3], 96: [0, 1]}\n",
      "{5: [1], 6: [2], 7: [3], 15: [3], 17: [1], 18: [2], 20: [0], 21: [1], 22: [2], 23: [3], 24: [0], 25: [1], 27: [3], 29: [1], 31: [3], 32: [0], 33: [1], 36: [0], 37: [1], 38: [2], 39: [3], 40: [0], 41: [1], 42: [2], 43: [3], 44: [0], 45: [1], 46: [2], 47: [3], 49: [1], 52: [0], 53: [1], 54: [2], 55: [3], 56: [0], 58: [2], 59: [3], 60: [0], 61: [1], 62: [2], 63: [3], 64: [0], 65: [1], 66: [2, 3], 68: [0], 69: [1, 2], 95: [3], 96: [0, 1]}\n",
      "{5: [1], 6: [2], 7: [3], 15: [3], 17: [1], 18: [2], 20: [0], 21: [1], 22: [2], 23: [3], 24: [0], 25: [1], 27: [3], 29: [1], 31: [3], 32: [0], 33: [1], 36: [0], 37: [1], 38: [2], 39: [3], 40: [0], 41: [1], 42: [2], 43: [3], 44: [0], 45: [1], 46: [2], 47: [3], 49: [1], 52: [0], 53: [1], 54: [2], 55: [3], 56: [0], 58: [2], 59: [3], 60: [0], 61: [1], 62: [2], 63: [3], 64: [0], 65: [1], 66: [2, 3], 68: [0], 69: [1, 2], 95: [3], 96: [0, 1]}\n",
      "{5: [1], 6: [2], 7: [3], 15: [3], 17: [1], 18: [2], 20: [0], 21: [1], 22: [2], 23: [3], 24: [0], 25: [1], 27: [3], 29: [1], 31: [3], 32: [0], 33: [1], 36: [0], 37: [1], 38: [2], 39: [3], 40: [0], 41: [1], 42: [2], 43: [3], 44: [0], 45: [1], 46: [2], 47: [3], 49: [1], 52: [0], 53: [1], 54: [2], 55: [3], 56: [0], 58: [2], 59: [3], 60: [0], 61: [1], 62: [2], 63: [3], 64: [0], 65: [1], 66: [2, 3], 68: [0], 69: [1, 2], 95: [3], 96: [0, 1]}\n",
      "{5: [1], 6: [2], 7: [3], 15: [3], 17: [1], 18: [2], 20: [0], 21: [1], 22: [2], 23: [3], 24: [0], 25: [1], 27: [3], 29: [1], 31: [3], 32: [0], 33: [1], 36: [0], 37: [1], 38: [2], 39: [3], 40: [0], 41: [1], 42: [2], 43: [3], 44: [0], 45: [1], 46: [2], 47: [3], 49: [1], 52: [0], 53: [1], 54: [2], 55: [3], 56: [0], 58: [2], 59: [3], 60: [0], 61: [1], 62: [2], 63: [3], 64: [0], 65: [1], 66: [2, 3], 68: [0], 69: [1, 2], 95: [3], 96: [0, 1]}\n",
      "{5: [1], 6: [2], 7: [3], 15: [3], 17: [1], 18: [2], 20: [0], 21: [1], 22: [2], 23: [3], 24: [0], 25: [1], 27: [3], 29: [1], 31: [3], 32: [0], 33: [1], 36: [0], 37: [1], 38: [2], 39: [3], 40: [0], 41: [1], 42: [2], 43: [3], 44: [0], 45: [1], 46: [2], 47: [3], 49: [1], 52: [0], 53: [1], 54: [2], 55: [3], 56: [0], 58: [2], 59: [3], 60: [0], 61: [1], 62: [2], 63: [3], 64: [0], 65: [1], 66: [2, 3], 68: [0], 69: [1, 2], 95: [3], 96: [0, 1]}\n",
      "{5: [1], 6: [2], 7: [3], 15: [3], 17: [1], 18: [2], 20: [0], 21: [1], 22: [2], 23: [3], 24: [0], 25: [1], 27: [3], 29: [1], 31: [3], 32: [0], 33: [1], 36: [0], 37: [1], 38: [2], 39: [3], 40: [0], 41: [1], 42: [2], 43: [3], 44: [0], 45: [1], 46: [2], 47: [3], 49: [1], 52: [0], 53: [1], 54: [2], 55: [3], 56: [0], 58: [2], 59: [3], 60: [0], 61: [1], 62: [2], 63: [3], 64: [0], 65: [1], 66: [2, 3], 68: [0], 69: [1, 2], 95: [3], 96: [0, 1]}\n",
      "{5: [1], 6: [2], 7: [3], 15: [3], 17: [1], 18: [2], 20: [0], 21: [1], 22: [2], 23: [3], 24: [0], 25: [1], 27: [3], 29: [1], 31: [3], 32: [0], 33: [1], 36: [0], 37: [1], 38: [2], 39: [3], 40: [0], 41: [1], 42: [2], 43: [3], 44: [0], 45: [1], 46: [2], 47: [3], 49: [1], 52: [0], 53: [1], 54: [2], 55: [3], 56: [0], 58: [2], 59: [3], 60: [0], 61: [1], 62: [2], 63: [3], 64: [0], 65: [1], 66: [2, 3], 68: [0], 69: [1, 2], 95: [3], 96: [0, 1]}\n",
      "{5: [1], 6: [2], 7: [3], 15: [3], 17: [1], 18: [2], 20: [0], 21: [1], 22: [2], 23: [3], 24: [0], 25: [1], 27: [3], 29: [1], 31: [3], 32: [0], 33: [1], 36: [0], 37: [1], 38: [2], 39: [3], 40: [0], 41: [1], 42: [2], 43: [3], 44: [0], 45: [1], 46: [2], 47: [3], 49: [1], 52: [0], 53: [1], 54: [2], 55: [3], 56: [0], 58: [2], 59: [3], 60: [0], 61: [1], 62: [2], 63: [3], 64: [0], 65: [1], 66: [2, 3], 68: [0], 69: [1, 2], 95: [3], 96: [0, 1]}\n",
      "{5: [1], 6: [2], 7: [3], 15: [3], 17: [1], 18: [2], 20: [0], 21: [1], 22: [2], 23: [3], 24: [0], 25: [1], 27: [3], 29: [1], 31: [3], 32: [0], 33: [1], 36: [0], 37: [1], 38: [2], 39: [3], 40: [0], 41: [1], 42: [2], 43: [3], 44: [0], 45: [1], 46: [2], 47: [3], 49: [1], 52: [0], 53: [1], 54: [2], 55: [3], 56: [0], 58: [2], 59: [3], 60: [0], 61: [1], 62: [2], 63: [3], 64: [0], 65: [1], 66: [2, 3], 68: [0], 69: [1, 2], 95: [3], 96: [0, 1]}\n",
      "{5: [1], 6: [2], 7: [3], 15: [3], 17: [1], 18: [2], 20: [0], 21: [1], 22: [2], 23: [3], 24: [0], 25: [1], 27: [3], 29: [1], 31: [3], 32: [0], 33: [1], 36: [0], 37: [1], 38: [2], 39: [3], 40: [0], 41: [1], 42: [2], 43: [3], 44: [0], 45: [1], 46: [2], 47: [3], 49: [1], 52: [0], 53: [1], 54: [2], 55: [3], 56: [0], 58: [2], 59: [3], 60: [0], 61: [1], 62: [2], 63: [3], 64: [0], 65: [1], 66: [2, 3], 68: [0], 69: [1, 2], 95: [3], 96: [0, 1]}\n",
      "{5: [1], 6: [2], 7: [3], 15: [3], 17: [1], 18: [2], 20: [0], 21: [1], 22: [2], 23: [3], 24: [0], 25: [1], 27: [3], 29: [1], 31: [3], 32: [0], 33: [1], 36: [0], 37: [1], 38: [2], 39: [3], 40: [0], 41: [1], 42: [2], 43: [3], 44: [0], 45: [1], 46: [2], 47: [3], 49: [1], 52: [0], 53: [1], 54: [2], 55: [3], 56: [0], 58: [2], 59: [3], 60: [0], 61: [1], 62: [2], 63: [3], 64: [0], 65: [1], 66: [2, 3], 68: [0], 69: [1, 2], 95: [3], 96: [0, 1]}\n",
      "{5: [1], 6: [2], 7: [3], 15: [3], 17: [1], 18: [2], 20: [0], 21: [1], 22: [2], 23: [3], 24: [0], 25: [1], 27: [3], 29: [1], 31: [3], 32: [0], 33: [1], 36: [0], 37: [1], 38: [2], 39: [3], 40: [0], 41: [1], 42: [2], 43: [3], 44: [0], 45: [1], 46: [2], 47: [3], 49: [1], 52: [0], 53: [1], 54: [2], 55: [3], 56: [0], 58: [2], 59: [3], 60: [0], 61: [1], 62: [2], 63: [3], 64: [0], 65: [1], 66: [2, 3], 68: [0], 69: [1, 2], 95: [3], 96: [0, 1]}\n",
      "{5: [1], 6: [2], 7: [3], 15: [3], 17: [1], 18: [2], 20: [0], 21: [1], 22: [2], 23: [3], 24: [0], 25: [1], 27: [3], 29: [1], 31: [3], 32: [0], 33: [1], 36: [0], 37: [1], 38: [2], 39: [3], 40: [0], 41: [1], 42: [2], 43: [3], 44: [0], 45: [1], 46: [2], 47: [3], 49: [1], 52: [0], 53: [1], 54: [2], 55: [3], 56: [0], 58: [2], 59: [3], 60: [0], 61: [1], 62: [2], 63: [3], 64: [0], 65: [1], 66: [2, 3], 68: [0], 69: [1, 2], 95: [3], 96: [0, 1]}\n",
      "{5: [1], 6: [2], 7: [3], 15: [3], 17: [1], 18: [2], 20: [0], 21: [1], 22: [2], 23: [3], 24: [0], 25: [1], 27: [3], 29: [1], 31: [3], 32: [0], 33: [1], 36: [0], 37: [1], 38: [2], 39: [3], 40: [0], 41: [1], 42: [2], 43: [3], 44: [0], 45: [1], 46: [2], 47: [3], 49: [1], 52: [0], 53: [1], 54: [2], 55: [3], 56: [0], 58: [2], 59: [3], 60: [0], 61: [1], 62: [2], 63: [3], 64: [0], 65: [1], 66: [2, 3], 68: [0], 69: [1, 2], 95: [3], 96: [0, 1]}\n",
      "{5: [1], 6: [2], 7: [3], 15: [3], 17: [1], 18: [2], 20: [0], 21: [1], 22: [2], 23: [3], 24: [0], 25: [1], 27: [3], 29: [1], 31: [3], 32: [0], 33: [1], 36: [0], 37: [1], 38: [2], 39: [3], 40: [0], 41: [1], 42: [2], 43: [3], 44: [0], 45: [1], 46: [2], 47: [3], 49: [1], 52: [0], 53: [1], 54: [2], 55: [3], 56: [0], 58: [2], 59: [3], 60: [0], 61: [1], 62: [2], 63: [3], 64: [0], 65: [1], 66: [2, 3], 68: [0], 69: [1, 2], 95: [3], 96: [0, 1]}\n",
      "{5: [1], 6: [2], 7: [3], 15: [3], 17: [1], 18: [2], 20: [0], 21: [1], 22: [2], 23: [3], 24: [0], 25: [1], 27: [3], 29: [1], 31: [3], 32: [0], 33: [1], 36: [0], 37: [1], 38: [2], 39: [3], 40: [0], 41: [1], 42: [2], 43: [3], 44: [0], 45: [1], 46: [2], 47: [3], 49: [1], 52: [0], 53: [1], 54: [2], 55: [3], 56: [0], 58: [2], 59: [3], 60: [0], 61: [1], 62: [2], 63: [3], 64: [0], 65: [1], 66: [2, 3], 68: [0], 69: [1, 2], 95: [3], 96: [0, 1]}\n",
      "{5: [1], 6: [2], 7: [3], 15: [3], 17: [1], 18: [2], 20: [0], 21: [1], 22: [2], 23: [3], 24: [0], 25: [1], 27: [3], 29: [1], 31: [3], 32: [0], 33: [1], 36: [0], 37: [1], 38: [2], 39: [3], 40: [0], 41: [1], 42: [2], 43: [3], 44: [0], 45: [1], 46: [2], 47: [3], 49: [1], 52: [0], 53: [1], 54: [2], 55: [3], 56: [0], 58: [2], 59: [3], 60: [0], 61: [1], 62: [2], 63: [3], 64: [0], 65: [1], 66: [2, 3], 68: [0], 69: [1, 2], 95: [3], 96: [0, 1]}\n",
      "{5: [1], 6: [2], 7: [3], 15: [3], 17: [1], 18: [2], 20: [0], 21: [1], 22: [2], 23: [3], 24: [0], 25: [1], 27: [3], 29: [1], 31: [3], 32: [0], 33: [1], 36: [0], 37: [1], 38: [2], 39: [3], 40: [0], 41: [1], 42: [2], 43: [3], 44: [0], 45: [1], 46: [2], 47: [3], 49: [1], 52: [0], 53: [1], 54: [2], 55: [3], 56: [0], 58: [2], 59: [3], 60: [0], 61: [1], 62: [2], 63: [3], 64: [0], 65: [1], 66: [2, 3], 68: [0], 69: [1, 2], 95: [3], 96: [0, 1]}\n",
      "{5: [1], 6: [2], 7: [3], 15: [3], 17: [1], 18: [2], 20: [0], 21: [1], 22: [2], 23: [3], 24: [0], 25: [1], 27: [3], 29: [1], 31: [3], 32: [0], 33: [1], 36: [0], 37: [1], 38: [2], 39: [3], 40: [0], 41: [1], 42: [2], 43: [3], 44: [0], 45: [1], 46: [2], 47: [3], 49: [1], 52: [0], 53: [1], 54: [2], 55: [3], 56: [0], 58: [2], 59: [3], 60: [0], 61: [1], 62: [2], 63: [3], 64: [0], 65: [1], 66: [2, 3], 68: [0], 69: [1, 2], 95: [3], 96: [0, 1]}\n"
     ]
    },
    {
     "name": "stdout",
     "output_type": "stream",
     "text": [
      "{5: [1], 6: [2], 7: [3], 15: [3], 17: [1], 18: [2], 20: [0], 21: [1], 22: [2], 23: [3], 24: [0], 25: [1], 27: [3], 29: [1], 31: [3], 32: [0], 33: [1], 36: [0], 37: [1], 38: [2], 39: [3], 40: [0], 41: [1], 42: [2], 43: [3], 44: [0], 45: [1], 46: [2], 47: [3], 49: [1], 52: [0], 53: [1], 54: [2], 55: [3], 56: [0], 58: [2], 59: [3], 60: [0], 61: [1], 62: [2], 63: [3], 64: [0], 65: [1], 66: [2, 3], 68: [0], 69: [1, 2], 95: [3], 96: [0, 1]}\n",
      "{5: [1], 6: [2], 7: [3], 15: [3], 17: [1], 18: [2], 20: [0], 21: [1], 22: [2], 23: [3], 24: [0], 25: [1], 27: [3], 29: [1], 31: [3], 32: [0], 33: [1], 36: [0], 37: [1], 38: [2], 39: [3], 40: [0], 41: [1], 42: [2], 43: [3], 44: [0], 45: [1], 46: [2], 47: [3], 49: [1], 52: [0], 53: [1], 54: [2], 55: [3], 56: [0], 58: [2], 59: [3], 60: [0], 61: [1], 62: [2], 63: [3], 64: [0], 65: [1], 66: [2, 3], 68: [0], 69: [1, 2], 95: [3], 96: [0, 1]}\n",
      "{5: [1], 6: [2], 7: [3], 15: [3], 17: [1], 18: [2], 20: [0], 21: [1], 22: [2], 23: [3], 24: [0], 25: [1], 27: [3], 29: [1], 31: [3], 32: [0], 33: [1], 36: [0], 37: [1], 38: [2], 39: [3], 40: [0], 41: [1], 42: [2], 43: [3], 44: [0], 45: [1], 46: [2], 47: [3], 49: [1], 52: [0], 53: [1], 54: [2], 55: [3], 56: [0], 58: [2], 59: [3], 60: [0], 61: [1], 62: [2], 63: [3], 64: [0], 65: [1], 66: [2, 3], 68: [0], 69: [1, 2], 95: [3], 96: [0, 1]}\n",
      "{5: [1], 6: [2], 7: [3], 15: [3], 17: [1], 18: [2], 20: [0], 21: [1], 22: [2], 23: [3], 24: [0], 25: [1], 27: [3], 29: [1], 31: [3], 32: [0], 33: [1], 36: [0], 37: [1], 38: [2], 39: [3], 40: [0], 41: [1], 42: [2], 43: [3], 44: [0], 45: [1], 46: [2], 47: [3], 49: [1], 52: [0], 53: [1], 54: [2], 55: [3], 56: [0], 58: [2], 59: [3], 60: [0], 61: [1], 62: [2], 63: [3], 64: [0], 65: [1], 66: [2, 3], 68: [0], 69: [1, 2], 95: [3], 96: [0, 1]}\n",
      "{5: [1], 6: [2], 7: [3], 15: [3], 17: [1], 18: [2], 20: [0], 21: [1], 22: [2], 23: [3], 24: [0], 25: [1], 27: [3], 29: [1], 31: [3], 32: [0], 33: [1], 36: [0], 37: [1], 38: [2], 39: [3], 40: [0], 41: [1], 42: [2], 43: [3], 44: [0], 45: [1], 46: [2], 47: [3], 49: [1], 52: [0], 53: [1], 54: [2], 55: [3], 56: [0], 58: [2], 59: [3], 60: [0], 61: [1], 62: [2], 63: [3], 64: [0], 65: [1], 66: [2, 3], 68: [0], 69: [1, 2], 95: [3], 96: [0, 1]}\n",
      "{5: [1], 6: [2], 7: [3], 15: [3], 17: [1], 18: [2], 20: [0], 21: [1], 22: [2], 23: [3], 24: [0], 25: [1], 27: [3], 29: [1], 31: [3], 32: [0], 33: [1], 36: [0], 37: [1], 38: [2], 39: [3], 40: [0], 41: [1], 42: [2], 43: [3], 44: [0], 45: [1], 46: [2], 47: [3], 49: [1], 52: [0], 53: [1], 54: [2], 55: [3], 56: [0], 58: [2], 59: [3], 60: [0], 61: [1], 62: [2], 63: [3], 64: [0], 65: [1], 66: [2, 3], 68: [0], 69: [1, 2], 95: [3], 96: [0, 1]}\n",
      "{5: [1], 6: [2], 7: [3], 15: [3], 17: [1], 18: [2], 20: [0], 21: [1], 22: [2], 23: [3], 24: [0], 25: [1], 27: [3], 29: [1], 31: [3], 32: [0], 33: [1], 36: [0], 37: [1], 38: [2], 39: [3], 40: [0], 41: [1], 42: [2], 43: [3], 44: [0], 45: [1], 46: [2], 47: [3], 49: [1], 52: [0], 53: [1], 54: [2], 55: [3], 56: [0], 58: [2], 59: [3], 60: [0], 61: [1], 62: [2], 63: [3], 64: [0], 65: [1], 66: [2, 3], 68: [0], 69: [1, 2], 95: [3], 96: [0, 1]}\n",
      "{5: [1], 6: [2], 7: [3], 15: [3], 17: [1], 18: [2], 20: [0], 21: [1], 22: [2], 23: [3], 24: [0], 25: [1], 27: [3], 29: [1], 31: [3], 32: [0], 33: [1], 36: [0], 37: [1], 38: [2], 39: [3], 40: [0], 41: [1], 42: [2], 43: [3], 44: [0], 45: [1], 46: [2], 47: [3], 49: [1], 52: [0], 53: [1], 54: [2], 55: [3], 56: [0], 58: [2], 59: [3], 60: [0], 61: [1], 62: [2], 63: [3], 64: [0], 65: [1], 66: [2, 3], 68: [0], 69: [1, 2], 95: [3], 96: [0, 1]}\n",
      "{5: [1], 6: [2], 7: [3], 15: [3], 17: [1], 18: [2], 20: [0], 21: [1], 22: [2], 23: [3], 24: [0], 25: [1], 27: [3], 29: [1], 31: [3], 32: [0], 33: [1], 36: [0], 37: [1], 38: [2], 39: [3], 40: [0], 41: [1], 42: [2], 43: [3], 44: [0], 45: [1], 46: [2], 47: [3], 49: [1], 52: [0], 53: [1], 54: [2], 55: [3], 56: [0], 58: [2], 59: [3], 60: [0], 61: [1], 62: [2], 63: [3], 64: [0], 65: [1], 66: [2, 3], 68: [0], 69: [1, 2], 95: [3], 96: [0, 1]}\n",
      "{5: [1], 6: [2], 7: [3], 15: [3], 17: [1], 18: [2], 20: [0], 21: [1], 22: [2], 23: [3], 24: [0], 25: [1], 27: [3], 29: [1], 31: [3], 32: [0], 33: [1], 36: [0], 37: [1], 38: [2], 39: [3], 40: [0], 41: [1], 42: [2], 43: [3], 44: [0], 45: [1], 46: [2], 47: [3], 49: [1], 52: [0], 53: [1], 54: [2], 55: [3], 56: [0], 58: [2], 59: [3], 60: [0], 61: [1], 62: [2], 63: [3], 64: [0], 65: [1], 66: [2, 3], 68: [0], 69: [1, 2], 95: [3], 96: [0, 1]}\n",
      "{5: [1], 6: [2], 7: [3], 15: [3], 17: [1], 18: [2], 20: [0], 21: [1], 22: [2], 23: [3], 24: [0], 25: [1], 27: [3], 29: [1], 31: [3], 32: [0], 33: [1], 36: [0], 37: [1], 38: [2], 39: [3], 40: [0], 41: [1], 42: [2], 43: [3], 44: [0], 45: [1], 46: [2], 47: [3], 49: [1], 52: [0], 53: [1], 54: [2], 55: [3], 56: [0], 58: [2], 59: [3], 60: [0], 61: [1], 62: [2], 63: [3], 64: [0], 65: [1], 66: [2, 3], 68: [0], 69: [1, 2], 95: [3], 96: [0, 1]}\n",
      "{5: [1], 6: [2], 7: [3], 15: [3], 17: [1], 18: [2], 20: [0], 21: [1], 22: [2], 23: [3], 24: [0], 25: [1], 27: [3], 29: [1], 31: [3], 32: [0], 33: [1], 36: [0], 37: [1], 38: [2], 39: [3], 40: [0], 41: [1], 42: [2], 43: [3], 44: [0], 45: [1], 46: [2], 47: [3], 49: [1], 52: [0], 53: [1], 54: [2], 55: [3], 56: [0], 58: [2], 59: [3], 60: [0], 61: [1], 62: [2], 63: [3], 64: [0], 65: [1], 66: [2, 3], 68: [0], 69: [1, 2], 95: [3], 96: [0, 1]}\n",
      "{5: [1], 6: [2], 7: [3], 15: [3], 17: [1], 18: [2], 20: [0], 21: [1], 22: [2], 23: [3], 24: [0], 25: [1], 27: [3], 29: [1], 31: [3], 32: [0], 33: [1], 36: [0], 37: [1], 38: [2], 39: [3], 40: [0], 41: [1], 42: [2], 43: [3], 44: [0], 45: [1], 46: [2], 47: [3], 49: [1], 52: [0], 53: [1], 54: [2], 55: [3], 56: [0], 58: [2], 59: [3], 60: [0], 61: [1], 62: [2], 63: [3], 64: [0], 65: [1], 66: [2, 3], 68: [0], 69: [1, 2], 95: [3], 96: [0, 1]}\n",
      "{5: [1], 6: [2], 7: [3], 15: [3], 17: [1], 18: [2], 20: [0], 21: [1], 22: [2], 23: [3], 24: [0], 25: [1], 27: [3], 29: [1], 31: [3], 32: [0], 33: [1], 36: [0], 37: [1], 38: [2], 39: [3], 40: [0], 41: [1], 42: [2], 43: [3], 44: [0], 45: [1], 46: [2], 47: [3], 49: [1], 52: [0], 53: [1], 54: [2], 55: [3], 56: [0], 58: [2], 59: [3], 60: [0], 61: [1], 62: [2], 63: [3], 64: [0], 65: [1], 66: [2, 3], 68: [0], 69: [1, 2], 95: [3], 96: [0, 1]}\n",
      "{5: [1], 6: [2], 7: [3], 15: [3], 17: [1], 18: [2], 20: [0], 21: [1], 22: [2], 23: [3], 24: [0], 25: [1], 27: [3], 29: [1], 31: [3], 32: [0], 33: [1], 36: [0], 37: [1], 38: [2], 39: [3], 40: [0], 41: [1], 42: [2], 43: [3], 44: [0], 45: [1], 46: [2], 47: [3], 49: [1], 52: [0], 53: [1], 54: [2], 55: [3], 56: [0], 58: [2], 59: [3], 60: [0], 61: [1], 62: [2], 63: [3], 64: [0], 65: [1], 66: [2, 3], 68: [0], 69: [1, 2], 95: [3], 96: [0, 1]}\n",
      "{5: [1], 6: [2], 7: [3], 15: [3], 17: [1], 18: [2], 20: [0], 21: [1], 22: [2], 23: [3], 24: [0], 25: [1], 27: [3], 29: [1], 31: [3], 32: [0], 33: [1], 36: [0], 37: [1], 38: [2], 39: [3], 40: [0], 41: [1], 42: [2], 43: [3], 44: [0], 45: [1], 46: [2], 47: [3], 49: [1], 52: [0], 53: [1], 54: [2], 55: [3], 56: [0], 58: [2], 59: [3], 60: [0], 61: [1], 62: [2], 63: [3], 64: [0], 65: [1], 66: [2, 3], 68: [0], 69: [1, 2], 95: [3], 96: [0, 1]}\n",
      "{5: [1], 6: [2], 7: [3], 15: [3], 17: [1], 18: [2], 20: [0], 21: [1], 22: [2], 23: [3], 24: [0], 25: [1], 27: [3], 29: [1], 31: [3], 32: [0], 33: [1], 36: [0], 37: [1], 38: [2], 39: [3], 40: [0], 41: [1], 42: [2], 43: [3], 44: [0], 45: [1], 46: [2], 47: [3], 49: [1], 52: [0], 53: [1], 54: [2], 55: [3], 56: [0], 58: [2], 59: [3], 60: [0], 61: [1], 62: [2], 63: [3], 64: [0], 65: [1], 66: [2, 3], 68: [0], 69: [1, 2], 95: [3], 96: [0, 1]}\n",
      "{5: [1], 6: [2], 7: [3], 15: [3], 17: [1], 18: [2], 20: [0], 21: [1], 22: [2], 23: [3], 24: [0], 25: [1], 27: [3], 29: [1], 31: [3], 32: [0], 33: [1], 36: [0], 37: [1], 38: [2], 39: [3], 40: [0], 41: [1], 42: [2], 43: [3], 44: [0], 45: [1], 46: [2], 47: [3], 49: [1], 52: [0], 53: [1], 54: [2], 55: [3], 56: [0], 58: [2], 59: [3], 60: [0], 61: [1], 62: [2], 63: [3], 64: [0], 65: [1], 66: [2, 3], 68: [0], 69: [1, 2], 95: [3], 96: [0, 1]}\n",
      "{5: [1], 6: [2], 7: [3], 15: [3], 17: [1], 18: [2], 20: [0], 21: [1], 22: [2], 23: [3], 24: [0], 25: [1], 27: [3], 29: [1], 31: [3], 32: [0], 33: [1], 36: [0], 37: [1], 38: [2], 39: [3], 40: [0], 41: [1], 42: [2], 43: [3], 44: [0], 45: [1], 46: [2], 47: [3], 49: [1], 52: [0], 53: [1], 54: [2], 55: [3], 56: [0], 58: [2], 59: [3], 60: [0], 61: [1], 62: [2], 63: [3], 64: [0], 65: [1], 66: [2, 3], 68: [0], 69: [1, 2], 95: [3], 96: [0, 1]}\n",
      "{5: [1], 6: [2], 7: [3], 15: [3], 17: [1], 18: [2], 20: [0], 21: [1], 22: [2], 23: [3], 24: [0], 25: [1], 27: [3], 29: [1], 31: [3], 32: [0], 33: [1], 36: [0], 37: [1], 38: [2], 39: [3], 40: [0], 41: [1], 42: [2], 43: [3], 44: [0], 45: [1], 46: [2], 47: [3], 49: [1], 52: [0], 53: [1], 54: [2], 55: [3], 56: [0], 58: [2], 59: [3], 60: [0], 61: [1], 62: [2], 63: [3], 64: [0], 65: [1], 66: [2, 3], 68: [0], 69: [1, 2], 95: [3], 96: [0, 1]}\n",
      "{5: [1], 6: [2], 7: [3], 15: [3], 17: [1], 18: [2], 20: [0], 21: [1], 22: [2], 23: [3], 24: [0], 25: [1], 27: [3], 29: [1], 31: [3], 32: [0], 33: [1], 36: [0], 37: [1], 38: [2], 39: [3], 40: [0], 41: [1], 42: [2], 43: [3], 44: [0], 45: [1], 46: [2], 47: [3], 49: [1], 52: [0], 53: [1], 54: [2], 55: [3], 56: [0], 58: [2], 59: [3], 60: [0], 61: [1], 62: [2], 63: [3], 64: [0], 65: [1], 66: [2, 3], 68: [0], 69: [1, 2], 95: [3], 96: [0, 1]}\n",
      "{5: [1], 6: [2], 7: [3], 15: [3], 17: [1], 18: [2], 20: [0], 21: [1], 22: [2], 23: [3], 24: [0], 25: [1], 27: [3], 29: [1], 31: [3], 32: [0], 33: [1], 36: [0], 37: [1], 38: [2], 39: [3], 40: [0], 41: [1], 42: [2], 43: [3], 44: [0], 45: [1], 46: [2], 47: [3], 49: [1], 52: [0], 53: [1], 54: [2], 55: [3], 56: [0], 58: [2], 59: [3], 60: [0], 61: [1], 62: [2], 63: [3], 64: [0], 65: [1], 66: [2, 3], 68: [0], 69: [1, 2], 95: [3], 96: [0, 1]}\n",
      "{5: [1], 6: [2], 7: [3], 15: [3], 17: [1], 18: [2], 20: [0], 21: [1], 22: [2], 23: [3], 24: [0], 25: [1], 27: [3], 29: [1], 31: [3], 32: [0], 33: [1], 36: [0], 37: [1], 38: [2], 39: [3], 40: [0], 41: [1], 42: [2], 43: [3], 44: [0], 45: [1], 46: [2], 47: [3], 49: [1], 52: [0], 53: [1], 54: [2], 55: [3], 56: [0], 58: [2], 59: [3], 60: [0], 61: [1], 62: [2], 63: [3], 64: [0], 65: [1], 66: [2, 3], 68: [0], 69: [1, 2], 95: [3], 96: [0, 1]}\n"
     ]
    },
    {
     "name": "stdout",
     "output_type": "stream",
     "text": [
      "{5: [1], 6: [2], 7: [3], 15: [3], 17: [1], 18: [2], 20: [0], 21: [1], 22: [2], 23: [3], 24: [0], 25: [1], 27: [3], 29: [1], 31: [3], 32: [0], 33: [1], 36: [0], 37: [1], 38: [2], 39: [3], 40: [0], 41: [1], 42: [2], 43: [3], 44: [0], 45: [1], 46: [2], 47: [3], 49: [1], 52: [0], 53: [1], 54: [2], 55: [3], 56: [0], 58: [2], 59: [3], 60: [0], 61: [1], 62: [2], 63: [3], 64: [0], 65: [1], 66: [2, 3], 68: [0], 69: [1, 2], 95: [3], 96: [0, 1]}\n",
      "{5: [1], 6: [2], 7: [3], 15: [3], 17: [1], 18: [2], 20: [0], 21: [1], 22: [2], 23: [3], 24: [0], 25: [1], 27: [3], 29: [1], 31: [3], 32: [0], 33: [1], 36: [0], 37: [1], 38: [2], 39: [3], 40: [0], 41: [1], 42: [2], 43: [3], 44: [0], 45: [1], 46: [2], 47: [3], 49: [1], 52: [0], 53: [1], 54: [2], 55: [3], 56: [0], 58: [2], 59: [3], 60: [0], 61: [1], 62: [2], 63: [3], 64: [0], 65: [1], 66: [2, 3], 68: [0], 69: [1, 2], 95: [3], 96: [0, 1]}\n",
      "{5: [1], 6: [2], 7: [3], 15: [3], 17: [1], 18: [2], 20: [0], 21: [1], 22: [2], 23: [3], 24: [0], 25: [1], 27: [3], 29: [1], 31: [3], 32: [0], 33: [1], 36: [0], 37: [1], 38: [2], 39: [3], 40: [0], 41: [1], 42: [2], 43: [3], 44: [0], 45: [1], 46: [2], 47: [3], 49: [1], 52: [0], 53: [1], 54: [2], 55: [3], 56: [0], 58: [2], 59: [3], 60: [0], 61: [1], 62: [2], 63: [3], 64: [0], 65: [1], 66: [2, 3], 68: [0], 69: [1, 2], 95: [3], 96: [0, 1]}\n",
      "{5: [1], 6: [2], 7: [3], 15: [3], 17: [1], 18: [2], 20: [0], 21: [1], 22: [2], 23: [3], 24: [0], 25: [1], 27: [3], 29: [1], 31: [3], 32: [0], 33: [1], 36: [0], 37: [1], 38: [2], 39: [3], 40: [0], 41: [1], 42: [2], 43: [3], 44: [0], 45: [1], 46: [2], 47: [3], 49: [1], 52: [0], 53: [1], 54: [2], 55: [3], 56: [0], 58: [2], 59: [3], 60: [0], 61: [1], 62: [2], 63: [3], 64: [0], 65: [1], 66: [2, 3], 68: [0], 69: [1, 2], 95: [3], 96: [0, 1]}\n",
      "{5: [1], 6: [2], 7: [3], 15: [3], 17: [1], 18: [2], 20: [0], 21: [1], 22: [2], 23: [3], 24: [0], 25: [1], 27: [3], 29: [1], 31: [3], 32: [0], 33: [1], 36: [0], 37: [1], 38: [2], 39: [3], 40: [0], 41: [1], 42: [2], 43: [3], 44: [0], 45: [1], 46: [2], 47: [3], 49: [1], 52: [0], 53: [1], 54: [2], 55: [3], 56: [0], 58: [2], 59: [3], 60: [0], 61: [1], 62: [2], 63: [3], 64: [0], 65: [1], 66: [2, 3], 68: [0], 69: [1, 2], 95: [3], 96: [0, 1]}\n",
      "{5: [1], 6: [2], 7: [3], 15: [3], 17: [1], 18: [2], 20: [0], 21: [1], 22: [2], 23: [3], 24: [0], 25: [1], 27: [3], 29: [1], 31: [3], 32: [0], 33: [1], 36: [0], 37: [1], 38: [2], 39: [3], 40: [0], 41: [1], 42: [2], 43: [3], 44: [0], 45: [1], 46: [2], 47: [3], 49: [1], 52: [0], 53: [1], 54: [2], 55: [3], 56: [0], 58: [2], 59: [3], 60: [0], 61: [1], 62: [2], 63: [3], 64: [0], 65: [1], 66: [2, 3], 68: [0], 69: [1, 2], 95: [3], 96: [0, 1]}\n",
      "{5: [1], 6: [2], 7: [3], 15: [3], 17: [1], 18: [2], 20: [0], 21: [1], 22: [2], 23: [3], 24: [0], 25: [1], 27: [3], 29: [1], 31: [3], 32: [0], 33: [1], 36: [0], 37: [1], 38: [2], 39: [3], 40: [0], 41: [1], 42: [2], 43: [3], 44: [0], 45: [1], 46: [2], 47: [3], 49: [1], 52: [0], 53: [1], 54: [2], 55: [3], 56: [0], 58: [2], 59: [3], 60: [0], 61: [1], 62: [2], 63: [3], 64: [0], 65: [1], 66: [2, 3], 68: [0], 69: [1, 2], 95: [3], 96: [0, 1]}\n",
      "{5: [1], 6: [2], 7: [3], 15: [3], 17: [1], 18: [2], 20: [0], 21: [1], 22: [2], 23: [3], 24: [0], 25: [1], 27: [3], 29: [1], 31: [3], 32: [0], 33: [1], 36: [0], 37: [1], 38: [2], 39: [3], 40: [0], 41: [1], 42: [2], 43: [3], 44: [0], 45: [1], 46: [2], 47: [3], 49: [1], 52: [0], 53: [1], 54: [2], 55: [3], 56: [0], 58: [2], 59: [3], 60: [0], 61: [1], 62: [2], 63: [3], 64: [0], 65: [1], 66: [2, 3], 68: [0], 69: [1, 2], 95: [3], 96: [0, 1]}\n",
      "{5: [1], 6: [2], 7: [3], 15: [3], 17: [1], 18: [2], 20: [0], 21: [1], 22: [2], 23: [3], 24: [0], 25: [1], 27: [3], 29: [1], 31: [3], 32: [0], 33: [1], 36: [0], 37: [1], 38: [2], 39: [3], 40: [0], 41: [1], 42: [2], 43: [3], 44: [0], 45: [1], 46: [2], 47: [3], 49: [1], 52: [0], 53: [1], 54: [2], 55: [3], 56: [0], 58: [2], 59: [3], 60: [0], 61: [1], 62: [2], 63: [3], 64: [0], 65: [1], 66: [2, 3], 68: [0], 69: [1, 2], 95: [3], 96: [0, 1]}\n",
      "{5: [1], 6: [2], 7: [3], 15: [3], 17: [1], 18: [2], 20: [0], 21: [1], 22: [2], 23: [3], 24: [0], 25: [1], 27: [3], 29: [1], 31: [3], 32: [0], 33: [1], 36: [0], 37: [1], 38: [2], 39: [3], 40: [0], 41: [1], 42: [2], 43: [3], 44: [0], 45: [1], 46: [2], 47: [3], 49: [1], 52: [0], 53: [1], 54: [2], 55: [3], 56: [0], 58: [2], 59: [3], 60: [0], 61: [1], 62: [2], 63: [3], 64: [0], 65: [1], 66: [2, 3], 68: [0], 69: [1, 2], 95: [3], 96: [0, 1]}\n",
      "{5: [1], 6: [2], 7: [3], 15: [3], 17: [1], 18: [2], 20: [0], 21: [1], 22: [2], 23: [3], 24: [0], 25: [1], 27: [3], 29: [1], 31: [3], 32: [0], 33: [1], 36: [0], 37: [1], 38: [2], 39: [3], 40: [0], 41: [1], 42: [2], 43: [3], 44: [0], 45: [1], 46: [2], 47: [3], 49: [1], 52: [0], 53: [1], 54: [2], 55: [3], 56: [0], 58: [2], 59: [3], 60: [0], 61: [1], 62: [2], 63: [3], 64: [0], 65: [1], 66: [2, 3], 68: [0], 69: [1, 2], 95: [3], 96: [0, 1]}\n",
      "{5: [1], 6: [2], 7: [3], 15: [3], 17: [1], 18: [2], 20: [0], 21: [1], 22: [2], 23: [3], 24: [0], 25: [1], 27: [3], 29: [1], 31: [3], 32: [0], 33: [1], 36: [0], 37: [1], 38: [2], 39: [3], 40: [0], 41: [1], 42: [2], 43: [3], 44: [0], 45: [1], 46: [2], 47: [3], 49: [1], 52: [0], 53: [1], 54: [2], 55: [3], 56: [0], 58: [2], 59: [3], 60: [0], 61: [1], 62: [2], 63: [3], 64: [0], 65: [1], 66: [2, 3], 68: [0], 69: [1, 2], 95: [3], 96: [0, 1]}\n",
      "{5: [1], 6: [2], 7: [3], 15: [3], 17: [1], 18: [2], 20: [0], 21: [1], 22: [2], 23: [3], 24: [0], 25: [1], 27: [3], 29: [1], 31: [3], 32: [0], 33: [1], 36: [0], 37: [1], 38: [2], 39: [3], 40: [0], 41: [1], 42: [2], 43: [3], 44: [0], 45: [1], 46: [2], 47: [3], 49: [1], 52: [0], 53: [1], 54: [2], 55: [3], 56: [0], 58: [2], 59: [3], 60: [0], 61: [1], 62: [2], 63: [3], 64: [0], 65: [1], 66: [2, 3], 68: [0], 69: [1, 2], 95: [3], 96: [0, 1]}\n",
      "{5: [1], 6: [2], 7: [3], 15: [3], 17: [1], 18: [2], 20: [0], 21: [1], 22: [2], 23: [3], 24: [0], 25: [1], 27: [3], 29: [1], 31: [3], 32: [0], 33: [1], 36: [0], 37: [1], 38: [2], 39: [3], 40: [0], 41: [1], 42: [2], 43: [3], 44: [0], 45: [1], 46: [2], 47: [3], 49: [1], 52: [0], 53: [1], 54: [2], 55: [3], 56: [0], 58: [2], 59: [3], 60: [0], 61: [1], 62: [2], 63: [3], 64: [0], 65: [1], 66: [2, 3], 68: [0], 69: [1, 2], 95: [3], 96: [0, 1]}\n",
      "{5: [1], 6: [2], 7: [3], 15: [3], 17: [1], 18: [2], 20: [0], 21: [1], 22: [2], 23: [3], 24: [0], 25: [1], 27: [3], 29: [1], 31: [3], 32: [0], 33: [1], 36: [0], 37: [1], 38: [2], 39: [3], 40: [0], 41: [1], 42: [2], 43: [3], 44: [0], 45: [1], 46: [2], 47: [3], 49: [1], 52: [0], 53: [1], 54: [2], 55: [3], 56: [0], 58: [2], 59: [3], 60: [0], 61: [1], 62: [2], 63: [3], 64: [0], 65: [1], 66: [2, 3], 68: [0], 69: [1, 2], 95: [3], 96: [0, 1]}\n",
      "{5: [1], 6: [2], 7: [3], 15: [3], 17: [1], 18: [2], 20: [0], 21: [1], 22: [2], 23: [3], 24: [0], 25: [1], 27: [3], 29: [1], 31: [3], 32: [0], 33: [1], 36: [0], 37: [1], 38: [2], 39: [3], 40: [0], 41: [1], 42: [2], 43: [3], 44: [0], 45: [1], 46: [2], 47: [3], 49: [1], 52: [0], 53: [1], 54: [2], 55: [3], 56: [0], 58: [2], 59: [3], 60: [0], 61: [1], 62: [2], 63: [3], 64: [0], 65: [1], 66: [2, 3], 68: [0], 69: [1, 2], 95: [3], 96: [0, 1]}\n",
      "{5: [1], 6: [2], 7: [3], 15: [3], 17: [1], 18: [2], 20: [0], 21: [1], 22: [2], 23: [3], 24: [0], 25: [1], 27: [3], 29: [1], 31: [3], 32: [0], 33: [1], 36: [0], 37: [1], 38: [2], 39: [3], 40: [0], 41: [1], 42: [2], 43: [3], 44: [0], 45: [1], 46: [2], 47: [3], 49: [1], 52: [0], 53: [1], 54: [2], 55: [3], 56: [0], 58: [2], 59: [3], 60: [0], 61: [1], 62: [2], 63: [3], 64: [0], 65: [1], 66: [2, 3], 68: [0], 69: [1, 2], 95: [3], 96: [0, 1]}\n",
      "{5: [1], 6: [2], 7: [3], 15: [3], 17: [1], 18: [2], 20: [0], 21: [1], 22: [2], 23: [3], 24: [0], 25: [1], 27: [3], 29: [1], 31: [3], 32: [0], 33: [1], 36: [0], 37: [1], 38: [2], 39: [3], 40: [0], 41: [1], 42: [2], 43: [3], 44: [0], 45: [1], 46: [2], 47: [3], 49: [1], 52: [0], 53: [1], 54: [2], 55: [3], 56: [0], 58: [2], 59: [3], 60: [0], 61: [1], 62: [2], 63: [3], 64: [0], 65: [1], 66: [2, 3], 68: [0], 69: [1, 2], 95: [3], 96: [0, 1]}\n",
      "{5: [1], 6: [2], 7: [3], 15: [3], 17: [1], 18: [2], 20: [0], 21: [1], 22: [2], 23: [3], 24: [0], 25: [1], 27: [3], 29: [1], 31: [3], 32: [0], 33: [1], 36: [0], 37: [1], 38: [2], 39: [3], 40: [0], 41: [1], 42: [2], 43: [3], 44: [0], 45: [1], 46: [2], 47: [3], 49: [1], 52: [0], 53: [1], 54: [2], 55: [3], 56: [0], 58: [2], 59: [3], 60: [0], 61: [1], 62: [2], 63: [3], 64: [0], 65: [1], 66: [2, 3], 68: [0], 69: [1, 2], 95: [3], 96: [0, 1]}\n",
      "{5: [1], 6: [2], 7: [3], 15: [3], 17: [1], 18: [2], 20: [0], 21: [1], 22: [2], 23: [3], 24: [0], 25: [1], 27: [3], 29: [1], 31: [3], 32: [0], 33: [1], 36: [0], 37: [1], 38: [2], 39: [3], 40: [0], 41: [1], 42: [2], 43: [3], 44: [0], 45: [1], 46: [2], 47: [3], 49: [1], 52: [0], 53: [1], 54: [2], 55: [3], 56: [0], 58: [2], 59: [3], 60: [0], 61: [1], 62: [2], 63: [3], 64: [0], 65: [1], 66: [2, 3], 68: [0], 69: [1, 2], 95: [3], 96: [0, 1]}\n",
      "{5: [1], 6: [2], 7: [3], 15: [3], 17: [1], 18: [2], 20: [0], 21: [1], 22: [2], 23: [3], 24: [0], 25: [1], 27: [3], 29: [1], 31: [3], 32: [0], 33: [1], 36: [0], 37: [1], 38: [2], 39: [3], 40: [0], 41: [1], 42: [2], 43: [3], 44: [0], 45: [1], 46: [2], 47: [3], 49: [1], 52: [0], 53: [1], 54: [2], 55: [3], 56: [0], 58: [2], 59: [3], 60: [0], 61: [1], 62: [2], 63: [3], 64: [0], 65: [1], 66: [2, 3], 68: [0], 69: [1, 2], 95: [3], 96: [0, 1]}\n",
      "{5: [1], 6: [2], 7: [3], 15: [3], 17: [1], 18: [2], 20: [0], 21: [1], 22: [2], 23: [3], 24: [0], 25: [1], 27: [3], 29: [1], 31: [3], 32: [0], 33: [1], 36: [0], 37: [1], 38: [2], 39: [3], 40: [0], 41: [1], 42: [2], 43: [3], 44: [0], 45: [1], 46: [2], 47: [3], 49: [1], 52: [0], 53: [1], 54: [2], 55: [3], 56: [0], 58: [2], 59: [3], 60: [0], 61: [1], 62: [2], 63: [3], 64: [0], 65: [1], 66: [2, 3], 68: [0], 69: [1, 2], 95: [3], 96: [0, 1]}\n",
      "{5: [1], 6: [2], 7: [3], 15: [3], 17: [1], 18: [2], 20: [0], 21: [1], 22: [2], 23: [3], 24: [0], 25: [1], 27: [3], 29: [1], 31: [3], 32: [0], 33: [1], 36: [0], 37: [1], 38: [2], 39: [3], 40: [0], 41: [1], 42: [2], 43: [3], 44: [0], 45: [1], 46: [2], 47: [3], 49: [1], 52: [0], 53: [1], 54: [2], 55: [3], 56: [0], 58: [2], 59: [3], 60: [0], 61: [1], 62: [2], 63: [3], 64: [0], 65: [1], 66: [2, 3], 68: [0], 69: [1, 2], 95: [3], 96: [0, 1]}\n"
     ]
    },
    {
     "name": "stdout",
     "output_type": "stream",
     "text": [
      "{5: [1], 6: [2], 7: [3], 15: [3], 17: [1], 18: [2], 20: [0], 21: [1], 22: [2], 23: [3], 24: [0], 25: [1], 27: [3], 29: [1], 31: [3], 32: [0], 33: [1], 36: [0], 37: [1], 38: [2], 39: [3], 40: [0], 41: [1], 42: [2], 43: [3], 44: [0], 45: [1], 46: [2], 47: [3], 49: [1], 52: [0], 53: [1], 54: [2], 55: [3], 56: [0], 58: [2], 59: [3], 60: [0], 61: [1], 62: [2], 63: [3], 64: [0], 65: [1], 66: [2, 3], 68: [0], 69: [1, 2], 95: [3], 96: [0, 1]}\n",
      "{5: [1], 6: [2], 7: [3], 15: [3], 17: [1], 18: [2], 20: [0], 21: [1], 22: [2], 23: [3], 24: [0], 25: [1], 27: [3], 29: [1], 31: [3], 32: [0], 33: [1], 36: [0], 37: [1], 38: [2], 39: [3], 40: [0], 41: [1], 42: [2], 43: [3], 44: [0], 45: [1], 46: [2], 47: [3], 49: [1], 52: [0], 53: [1], 54: [2], 55: [3], 56: [0], 58: [2], 59: [3], 60: [0], 61: [1], 62: [2], 63: [3], 64: [0], 65: [1], 66: [2, 3], 68: [0], 69: [1, 2], 95: [3], 96: [0, 1]}\n",
      "{5: [1], 6: [2], 7: [3], 15: [3], 17: [1], 18: [2], 20: [0], 21: [1], 22: [2], 23: [3], 24: [0], 25: [1], 27: [3], 29: [1], 31: [3], 32: [0], 33: [1], 36: [0], 37: [1], 38: [2], 39: [3], 40: [0], 41: [1], 42: [2], 43: [3], 44: [0], 45: [1], 46: [2], 47: [3], 49: [1], 52: [0], 53: [1], 54: [2], 55: [3], 56: [0], 58: [2], 59: [3], 60: [0], 61: [1], 62: [2], 63: [3], 64: [0], 65: [1], 66: [2, 3], 68: [0], 69: [1, 2], 95: [3], 96: [0, 1]}\n",
      "{5: [1], 6: [2], 7: [3], 15: [3], 17: [1], 18: [2], 20: [0], 21: [1], 22: [2], 23: [3], 24: [0], 25: [1], 27: [3], 29: [1], 31: [3], 32: [0], 33: [1], 36: [0], 37: [1], 38: [2], 39: [3], 40: [0], 41: [1], 42: [2], 43: [3], 44: [0], 45: [1], 46: [2], 47: [3], 49: [1], 52: [0], 53: [1], 54: [2], 55: [3], 56: [0], 58: [2], 59: [3], 60: [0], 61: [1], 62: [2], 63: [3], 64: [0], 65: [1], 66: [2, 3], 68: [0], 69: [1, 2], 95: [3], 96: [0, 1]}\n",
      "{5: [1], 6: [2], 7: [3], 15: [3], 17: [1], 18: [2], 20: [0], 21: [1], 22: [2], 23: [3], 24: [0], 25: [1], 27: [3], 29: [1], 31: [3], 32: [0], 33: [1], 36: [0], 37: [1], 38: [2], 39: [3], 40: [0], 41: [1], 42: [2], 43: [3], 44: [0], 45: [1], 46: [2], 47: [3], 49: [1], 52: [0], 53: [1], 54: [2], 55: [3], 56: [0], 58: [2], 59: [3], 60: [0], 61: [1], 62: [2], 63: [3], 64: [0], 65: [1], 66: [2, 3], 68: [0], 69: [1, 2], 95: [3], 96: [0, 1]}\n"
     ]
    }
   ],
   "source": [
    "streamdfdd = functools.partial(samplestream, allnodes, all_data)\n",
    "dfddmapper=functools.partial(dmapper,neighborhoods)\n",
    "rdfdd = mr(streamdfdd, dfddmapper, reducer)\n",
    "resdfdd = dfdd_merger(rdfdd)"
   ]
  },
  {
   "cell_type": "code",
   "execution_count": null,
   "metadata": {
    "collapsed": true
   },
   "outputs": [],
   "source": [
    "def realify(amplitude, phase):\n",
    "    \"\"\"take complex mode shape, which means we can express structural\n",
    "    motion at each point as something like a*sin(wt+phi),\n",
    "    and return a real value which is a snapshot of this steady state\n",
    "    motion at t=0\"\"\"\n",
    "    t=0\n",
    "    w=_\n",
    "    return abs(complex(amplitude, phase))#amplitude*math.sin(phase)\n",
    "def merge_two_dicts(x, y):\n",
    "    z = x.copy()   # start with x's keys and values\n",
    "    z.update(y)    # modifies z with y's keys and values & returns None\n",
    "    return z\n",
    "def mergeaxes(entries):\n",
    "    \"\"\"entries is a list of modeshape values for\n",
    "    a specific node,for example:\n",
    "    [{'ax': 'x', 'Node': '31', 'val': -0.03}\n",
    "    , {'ax': 'y', 'Node': '31', 'val': 0.05}]\"\"\"\n",
    "    convert = lambda d: {'Node':d['Node'],2*d['ax']:d['val']}\n",
    "    return functools.reduce(merge_two_dicts, map(convert, entries),{})\n",
    "def formatter(res):\n",
    "    d = [{'Node':k[0:-1],'ax':k[-1], 'val':realify(*v)} for k,v in res]\n",
    "    grouped = itertools.groupby(d, key = lambda d:d['Node'])\n",
    "    res = [mergeaxes(group) for k, group in grouped]\n",
    "    return pd.DataFrame(res)"
   ]
  },
  {
   "cell_type": "code",
   "execution_count": null,
   "metadata": {
    "collapsed": true
   },
   "outputs": [],
   "source": [
    "final = formatter(res)\n",
    "final.to_csv('notebook_analysis/fddmodeshape.csv', index=False)"
   ]
  },
  {
   "cell_type": "code",
   "execution_count": null,
   "metadata": {
    "collapsed": true
   },
   "outputs": [],
   "source": [
    "a = set()\n",
    "a.add(1)"
   ]
  },
  {
   "cell_type": "code",
   "execution_count": 26,
   "metadata": {},
   "outputs": [
    {
     "data": {
      "text/plain": [
       "[(0, ('20x', (0.049106, 0.028246)))]"
      ]
     },
     "execution_count": 26,
     "metadata": {},
     "output_type": "execute_result"
    }
   ],
   "source": [
    "list(itertools.chain(*[[(0, ('20x', (0.049106, 0.028246)))]]))"
   ]
  },
  {
   "cell_type": "code",
   "execution_count": 17,
   "metadata": {},
   "outputs": [
    {
     "data": {
      "text/plain": [
       "'6'"
      ]
     },
     "execution_count": 17,
     "metadata": {},
     "output_type": "execute_result"
    }
   ],
   "source": [
    "'6x'[0:-1]"
   ]
  },
  {
   "cell_type": "code",
   "execution_count": null,
   "metadata": {
    "collapsed": true
   },
   "outputs": [],
   "source": []
  }
 ],
 "metadata": {
  "kernelspec": {
   "display_name": "Python 3",
   "language": "python",
   "name": "python3"
  },
  "language_info": {
   "codemirror_mode": {
    "name": "ipython",
    "version": 3
   },
   "file_extension": ".py",
   "mimetype": "text/x-python",
   "name": "python",
   "nbconvert_exporter": "python",
   "pygments_lexer": "ipython3",
   "version": "3.4.3"
  }
 },
 "nbformat": 4,
 "nbformat_minor": 2
}
