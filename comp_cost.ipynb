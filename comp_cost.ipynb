{
 "cells": [
  {
   "cell_type": "code",
   "execution_count": 24,
   "metadata": {},
   "outputs": [],
   "source": [
    "import matplotlib\n",
    "%matplotlib inline\n",
    "import seaborn as sns\n",
    "import matplotlib.pyplot as plt\n",
    "import sys\n",
    "import os\n",
    "import json\n",
    "import itertools\n",
    "import operator\n",
    "import pandas as pd\n",
    "with open('../comp_comm') as f:\n",
    "    data = [json.loads(line) for line in f]"
   ]
  },
  {
   "cell_type": "code",
   "execution_count": 25,
   "metadata": {},
   "outputs": [],
   "source": [
    "#step 1, take list of dictionaries, and produce list of pairs of dictionaries,\n",
    "#where each pair has matching cat and size but different node\n",
    "def split(data):\n",
    "    return ([i for i in data if i['node']==99],[i for i in data if i['node']==31])\n",
    "def keyfun(d):\n",
    "    return (d['cat'],int(d['size']))\n",
    "def group_similar(lst):\n",
    "    sorter = sorted(lst, key=keyfun)\n",
    "    grouper = itertools.groupby(sorter, keyfun)\n",
    "    return {k:[i['t'] for i in g] for k,g in grouper}\n",
    "def combine(one, two):\n",
    "    return {k:(v,two.get(k,[])) for k,v in one.items()}\n",
    "server, node = split(data)\n",
    "combined = combine(group_similar(server), group_similar(node))\n",
    "zipped = {k: list(zip(*v)) for k, v in combined.items()}\n",
    "div = lambda a,b:a/b\n",
    "divided = {k: [div(*i) for i in v] for k,v in zipped.items()}\n",
    "flattened = list(itertools.chain(*[v for k,v in zipped.items()]))\n",
    "df = pd.DataFrame(flattened, columns=['server', 'node'])"
   ]
  },
  {
   "cell_type": "code",
   "execution_count": 26,
   "metadata": {
    "scrolled": true
   },
   "outputs": [
    {
     "data": {
      "image/png": "[encoded data removed]",
      "text/plain": [
       "<matplotlib.figure.Figure at 0x7ff8a9eaf5f8>"
      ]
     },
     "metadata": {},
     "output_type": "display_data"
    }
   ],
   "source": [
    "g = sns.regplot(x=\"server\", y=\"node\", data=df, ci = False,\n",
    "    scatter_kws={\"color\":\"darkred\",\"alpha\":0.3,\"s\":50},\n",
    "    line_kws={\"color\":\"k\",\"alpha\":0.2,\"lw\":0.5},marker=\"o\")\n",
    "sns.despine()"
   ]
  },
  {
   "cell_type": "code",
   "execution_count": 27,
   "metadata": {},
   "outputs": [],
   "source": [
    "fig = g.get_figure()\n",
    "fig.savefig('comp_comparison')"
   ]
  },
  {
   "cell_type": "code",
   "execution_count": null,
   "metadata": {},
   "outputs": [],
   "source": []
  },
  {
   "cell_type": "code",
   "execution_count": null,
   "metadata": {},
   "outputs": [],
   "source": []
  },
  {
   "cell_type": "code",
   "execution_count": null,
   "metadata": {
    "collapsed": true
   },
   "outputs": [],
   "source": []
  }
 ],
 "metadata": {
  "kernelspec": {
   "display_name": "Python 3",
   "language": "python",
   "name": "python3"
  },
  "language_info": {
   "codemirror_mode": {
    "name": "ipython",
    "version": 3
   },
   "file_extension": ".py",
   "mimetype": "text/x-python",
   "name": "python",
   "nbconvert_exporter": "python",
   "pygments_lexer": "ipython3",
   "version": "3.4.3"
  }
 },
 "nbformat": 4,
 "nbformat_minor": 2
}
